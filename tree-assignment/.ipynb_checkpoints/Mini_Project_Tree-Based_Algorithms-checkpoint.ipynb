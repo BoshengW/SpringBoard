{
 "cells": [
  {
   "cell_type": "markdown",
   "metadata": {},
   "source": [
    "# Mini Project: Tree-Based Algorithms"
   ]
  },
  {
   "cell_type": "markdown",
   "metadata": {},
   "source": [
    "## The \"German Credit\" Dataset"
   ]
  },
  {
   "cell_type": "markdown",
   "metadata": {},
   "source": [
    "### Dataset Details"
   ]
  },
  {
   "cell_type": "markdown",
   "metadata": {},
   "source": [
    "This dataset has two classes (these would be considered labels in Machine Learning terms) to describe the worthiness of a personal loan: \"Good\" or \"Bad\". There are predictors related to attributes, such as: checking account status, duration, credit history, purpose of the loan, amount of the loan, savings accounts or bonds, employment duration, installment rate in percentage of disposable income, personal information, other debtors/guarantors, residence duration, property, age, other installment plans, housing, number of existing credits, job information, number of people being liable to provide maintenance for, telephone, and foreign worker status.\n",
    "\n",
    "Many of these predictors are discrete and have been expanded into several 0/1 indicator variables (a.k.a. they have been one-hot-encoded).\n",
    "\n",
    "This dataset has been kindly provided by Professor Dr. Hans Hofmann of the University of Hamburg, and can also be found on the UCI Machine Learning Repository."
   ]
  },
  {
   "cell_type": "markdown",
   "metadata": {},
   "source": [
    "\n",
    "\n",
    "\n"
   ]
  },
  {
   "cell_type": "markdown",
   "metadata": {},
   "source": [
    "## Decision Trees"
   ]
  },
  {
   "cell_type": "markdown",
   "metadata": {},
   "source": [
    " As we have learned in the previous lectures, Decision Trees as a family of algorithms (irrespective to the particular implementation) are powerful algorithms that can produce models with a predictive accuracy higher than that produced by linear models, such as Linear or Logistic Regression. Primarily, this is due to the fact the DT's can model nonlinear relationships, and also have a number of tuning paramters, that allow for the practicioner to achieve the best possible model. An added bonus is the ability to visualize the trained Decision Tree model, which allows for some insight into how the model has produced the predictions that it has. One caveat here, to keep in mind, is that sometimes, due to the size of the dataset (both in the sense of the number of records, as well as the number of features), the visualization might prove to be very large and complex, increasing the difficulty of interpretation."
   ]
  },
  {
   "cell_type": "markdown",
   "metadata": {},
   "source": [
    "To give you a very good example of how Decision Trees can be visualized and interpreted, we would strongly recommend that, before continuing on with solving the problems in this Mini Project, you take the time to read this fanstastic, detailed and informative blog post: http://explained.ai/decision-tree-viz/index.html"
   ]
  },
  {
   "cell_type": "markdown",
   "metadata": {},
   "source": [
    "## Building Your First Decision Tree Model"
   ]
  },
  {
   "cell_type": "markdown",
   "metadata": {},
   "source": [
    "So, now it's time to jump straight into the heart of the matter. Your first task, is to build a Decision Tree model, using the aforementioned \"German Credit\" dataset, which contains 1,000 records, and 62 columns (one of them presents the labels, and the other 61 present the potential features for the model.)"
   ]
  },
  {
   "cell_type": "markdown",
   "metadata": {},
   "source": [
    "For this task, you will be using the scikit-learn library, which comes already pre-installed with the Anaconda Python distribution. In case you're not using that, you can easily install it using pip."
   ]
  },
  {
   "cell_type": "markdown",
   "metadata": {},
   "source": [
    "Before embarking on creating your first model, we would strongly encourage you to read the short tutorial for Decision Trees in scikit-learn (http://scikit-learn.org/stable/modules/tree.html), and then dive a bit deeper into the documentation of the algorithm itself (http://scikit-learn.org/stable/modules/generated/sklearn.tree.DecisionTreeClassifier.html). "
   ]
  },
  {
   "cell_type": "markdown",
   "metadata": {},
   "source": [
    "Also, since you want to be able to present the results of your model, we suggest you take a look at the tutorial for accuracy metrics for classification models (http://scikit-learn.org/stable/modules/model_evaluation.html#classification-report) as well as the more detailed documentation (http://scikit-learn.org/stable/modules/generated/sklearn.metrics.classification_report.html).\n",
    "\n",
    "Finally, an *amazing* resource that explains the various classification model accuracy metrics, as well as the relationships between them, can be found on Wikipedia: https://en.wikipedia.org/wiki/Confusion_matrix"
   ]
  },
  {
   "cell_type": "markdown",
   "metadata": {},
   "source": [
    "(Note: as you've already learned in the Logistic Regression mini project, a standard practice in Machine Learning for achieving the best possible result when training a model is to use hyperparameter tuning, through Grid Search and k-fold Cross Validation. We strongly encourage you to use it here as well, not just because it's standard practice, but also becuase it's not going to be computationally to intensive, due to the size of the dataset that you're working with. Our suggestion here is that you split the data into 70% training, and 30% testing. Then, do the hyperparameter tuning and Cross Validation on the training set, and afterwards to a final test on the testing set.)"
   ]
  },
  {
   "cell_type": "markdown",
   "metadata": {},
   "source": [
    "### Now we pass the torch onto you! You can start building your first Decision Tree model! :)"
   ]
  },
  {
   "cell_type": "code",
   "execution_count": 1,
   "metadata": {},
   "outputs": [],
   "source": [
    "import pandas as pd\n",
    "from sklearn.tree import DecisionTreeClassifier\n",
    "from sklearn.metrics import classification_report\n",
    "from sklearn.model_selection import train_test_split\n",
    "from sklearn.model_selection import GridSearchCV"
   ]
  },
  {
   "cell_type": "code",
   "execution_count": 2,
   "metadata": {},
   "outputs": [],
   "source": [
    "# Your code here! :)\n",
    "## load the data\n",
    "df = pd.read_csv(\"GermanCredit.csv\");\n",
    "X = df.drop([\"Class\"], axis=1)\n",
    "y = df.Class.map({\"Good\": 1, \"Bad\": 0})\n",
    "\n",
    "## split train-test dataset\n",
    "train_X, test_X, train_y, test_y = train_test_split(X, y, test_size=0.3, random_state=10)"
   ]
  },
  {
   "cell_type": "code",
   "execution_count": 3,
   "metadata": {},
   "outputs": [],
   "source": [
    "## Grid Search \n",
    "\n",
    "Parameters = {\n",
    "    \"criterion\": [\"gini\", \"entropy\"],\n",
    "    \"splitter\": [\"best\", \"random\"],\n",
    "    \"max_depth\": [None, 4, 8, 12],\n",
    "    \"min_samples_split\": [2, 5, 10, 20],\n",
    "#     \"min_samples_leaf\": [1, 5],\n",
    "#     \"max_features\": [None, \"auto\", \"sqrt\", \"log2\"],\n",
    "#     \"max_leaf_nodes\": [None, 20, 40]\n",
    "}\n",
    "\n",
    "tree = DecisionTreeClassifier(random_state=10)\n",
    "clf = GridSearchCV(tree, Parameters)\n"
   ]
  },
  {
   "cell_type": "code",
   "execution_count": 4,
   "metadata": {},
   "outputs": [
    {
     "data": {
      "text/plain": [
       "GridSearchCV(cv=None, error_score='raise',\n",
       "       estimator=DecisionTreeClassifier(class_weight=None, criterion='gini', max_depth=None,\n",
       "            max_features=None, max_leaf_nodes=None,\n",
       "            min_impurity_decrease=0.0, min_impurity_split=None,\n",
       "            min_samples_leaf=1, min_samples_split=2,\n",
       "            min_weight_fraction_leaf=0.0, presort=False, random_state=10,\n",
       "            splitter='best'),\n",
       "       fit_params=None, iid=True, n_jobs=1,\n",
       "       param_grid={'criterion': ['gini', 'entropy'], 'splitter': ['best', 'random'], 'max_depth': [None, 4, 8, 12], 'min_samples_split': [2, 5, 10, 20]},\n",
       "       pre_dispatch='2*n_jobs', refit=True, return_train_score='warn',\n",
       "       scoring=None, verbose=0)"
      ]
     },
     "execution_count": 4,
     "metadata": {},
     "output_type": "execute_result"
    }
   ],
   "source": [
    "## Train and find best model\n",
    "from sklearn.metrics import accuracy_score\n",
    "\n",
    "clf.fit(train_X, train_y)"
   ]
  },
  {
   "cell_type": "code",
   "execution_count": 5,
   "metadata": {},
   "outputs": [
    {
     "data": {
      "text/plain": [
       "DecisionTreeClassifier(class_weight=None, criterion='gini', max_depth=4,\n",
       "            max_features=None, max_leaf_nodes=None,\n",
       "            min_impurity_decrease=0.0, min_impurity_split=None,\n",
       "            min_samples_leaf=1, min_samples_split=2,\n",
       "            min_weight_fraction_leaf=0.0, presort=False, random_state=10,\n",
       "            splitter='best')"
      ]
     },
     "execution_count": 5,
     "metadata": {},
     "output_type": "execute_result"
    }
   ],
   "source": [
    "clf.best_estimator_"
   ]
  },
  {
   "cell_type": "code",
   "execution_count": 6,
   "metadata": {},
   "outputs": [
    {
     "name": "stdout",
     "output_type": "stream",
     "text": [
      "0.7957142857142857\n"
     ]
    }
   ],
   "source": [
    "print(accuracy_score(clf.best_estimator_.predict(train_X), train_y))\n"
   ]
  },
  {
   "cell_type": "markdown",
   "metadata": {},
   "source": [
    "### After you've built the best model you can, now it's time to visualize it!"
   ]
  },
  {
   "cell_type": "markdown",
   "metadata": {},
   "source": [
    "Rememeber that amazing blog post from a few paragraphs ago, that demonstrated how to visualize and interpret the results of your Decision Tree model. We've seen that this can perform very well, but let's see how it does on the \"German Credit\" dataset that we're working on, due to it being a bit larger than the one used by the blog authors."
   ]
  },
  {
   "cell_type": "markdown",
   "metadata": {},
   "source": [
    "First, we're going to need to install their package. If you're using Anaconda, this can be done easily by running:"
   ]
  },
  {
   "cell_type": "code",
   "execution_count": 7,
   "metadata": {},
   "outputs": [
    {
     "name": "stdout",
     "output_type": "stream",
     "text": [
      "Collecting dtreeviz\n",
      "  Downloading https://files.pythonhosted.org/packages/53/d8/15e5760cfef9ebf384c4ce7646db2c7695a6c2b4be0bf6893217574b2f27/dtreeviz-0.8.2.tar.gz\n",
      "Collecting graphviz>=0.9 (from dtreeviz)\n",
      "  Downloading https://files.pythonhosted.org/packages/83/cc/c62100906d30f95d46451c15eb407da7db201e30f42008f3643945910373/graphviz-0.14-py2.py3-none-any.whl\n",
      "Requirement already satisfied: pandas in c:\\programdata\\anaconda3\\lib\\site-packages (from dtreeviz) (0.23.0)\n",
      "Requirement already satisfied: numpy in c:\\programdata\\anaconda3\\lib\\site-packages (from dtreeviz) (1.14.3)\n",
      "Requirement already satisfied: scikit-learn in c:\\programdata\\anaconda3\\lib\\site-packages (from dtreeviz) (0.19.1)\n",
      "Requirement already satisfied: matplotlib in c:\\programdata\\anaconda3\\lib\\site-packages (from dtreeviz) (2.2.2)\n",
      "Collecting colour (from dtreeviz)\n",
      "  Downloading https://files.pythonhosted.org/packages/74/46/e81907704ab203206769dee1385dc77e1407576ff8f50a0681d0a6b541be/colour-0.1.5-py2.py3-none-any.whl\n",
      "Requirement already satisfied: python-dateutil>=2.5.0 in c:\\programdata\\anaconda3\\lib\\site-packages (from pandas->dtreeviz) (2.7.3)\n",
      "Requirement already satisfied: pytz>=2011k in c:\\programdata\\anaconda3\\lib\\site-packages (from pandas->dtreeviz) (2018.4)\n",
      "Requirement already satisfied: cycler>=0.10 in c:\\programdata\\anaconda3\\lib\\site-packages (from matplotlib->dtreeviz) (0.10.0)\n",
      "Requirement already satisfied: pyparsing!=2.0.4,!=2.1.2,!=2.1.6,>=2.0.1 in c:\\programdata\\anaconda3\\lib\\site-packages (from matplotlib->dtreeviz) (2.2.0)\n",
      "Requirement already satisfied: six>=1.10 in c:\\programdata\\anaconda3\\lib\\site-packages (from matplotlib->dtreeviz) (1.11.0)\n",
      "Requirement already satisfied: kiwisolver>=1.0.1 in c:\\programdata\\anaconda3\\lib\\site-packages (from matplotlib->dtreeviz) (1.0.1)\n",
      "Requirement already satisfied: setuptools in c:\\programdata\\anaconda3\\lib\\site-packages (from kiwisolver>=1.0.1->matplotlib->dtreeviz) (39.1.0)\n",
      "Building wheels for collected packages: dtreeviz\n",
      "  Running setup.py bdist_wheel for dtreeviz: started\n",
      "  Running setup.py bdist_wheel for dtreeviz: finished with status 'done'\n",
      "  Stored in directory: C:\\Users\\wubos\\AppData\\Local\\pip\\Cache\\wheels\\a2\\da\\b1\\3178bb2b10647b5a6340c1979987e3b0c3b993cb674b0a3dcc\n",
      "Successfully built dtreeviz\n",
      "Installing collected packages: graphviz, colour, dtreeviz\n",
      "Successfully installed colour-0.1.5 dtreeviz-0.8.2 graphviz-0.14\n"
     ]
    },
    {
     "name": "stderr",
     "output_type": "stream",
     "text": [
      "distributed 1.21.8 requires msgpack, which is not installed.\n",
      "You are using pip version 10.0.1, however version 20.2b1 is available.\n",
      "You should consider upgrading via the 'python -m pip install --upgrade pip' command.\n"
     ]
    }
   ],
   "source": [
    "! pip install dtreeviz"
   ]
  },
  {
   "cell_type": "code",
   "execution_count": 23,
   "metadata": {},
   "outputs": [
    {
     "name": "stdout",
     "output_type": "stream",
     "text": [
      "Collecting package metadata (repodata.json): done\n",
      "Solving environment: done\n",
      "\n",
      "## Package Plan ##\n",
      "\n",
      "  environment location: /opt/conda/envs/springboard\n",
      "\n",
      "  removed specs:\n",
      "    - python-graphviz\n",
      "\n",
      "\n",
      "The following packages will be downloaded:\n",
      "\n",
      "    package                    |            build\n",
      "    ---------------------------|-----------------\n",
      "    _libgcc_mutex-0.1          |             main           3 KB\n",
      "    backports-1.0              |             py_2         160 KB\n",
      "    backports.functools_lru_cache-1.6.1|             py_0          11 KB\n",
      "    backports.tempfile-1.0     |             py_1          15 KB\n",
      "    backports.weakref-1.0.post1|             py_1           8 KB\n",
      "    beautifulsoup4-4.9.1       |           py37_0         165 KB\n",
      "    brotlipy-0.7.0             |py37h7b6447c_1000         322 KB\n",
      "    bzip2-1.0.8                |       h7b6447c_0          78 KB\n",
      "    cffi-1.14.0                |   py37he30daa8_1         224 KB\n",
      "    chardet-3.0.4              |        py37_1003         174 KB\n",
      "    click-7.1.2                |             py_0          71 KB\n",
      "    cryptography-2.9.2         |   py37h1ba5d50_0         552 KB\n",
      "    dbus-1.13.14               |       hb2f20db_0         504 KB\n",
      "    expat-2.2.6                |       he6710b0_0         146 KB\n",
      "    filelock-3.0.12            |             py_0          13 KB\n",
      "    freetype-2.10.2            |       h5ab3b9f_0         608 KB\n",
      "    future-0.18.2              |           py37_1         631 KB\n",
      "    glib-2.63.1                |       h3eb4bd4_1         2.9 MB\n",
      "    glob2-0.7                  |             py_0          15 KB\n",
      "    gst-plugins-base-1.14.0    |       hbbd80ab_1         4.8 MB\n",
      "    gstreamer-1.14.0           |       hb31296c_0         3.1 MB\n",
      "    idna-2.9                   |             py_1          49 KB\n",
      "    intel-openmp-2019.4        |              243         729 KB\n",
      "    jinja2-2.11.2              |             py_0         103 KB\n",
      "    jpeg-9b                    |       h024ee3a_2         214 KB\n",
      "    krb5-1.17.1                |       h173b8e3_0         1.3 MB\n",
      "    ld_impl_linux-64-2.33.1    |       h53a641e_7         568 KB\n",
      "    libarchive-3.4.2           |       h62408e4_0         796 KB\n",
      "    libcurl-7.69.1             |       h20c2e04_0         431 KB\n",
      "    libedit-3.1.20191231       |       h7b6447c_0         167 KB\n",
      "    libffi-3.3                 |       he6710b0_1          50 KB\n",
      "    libgcc-ng-9.1.0            |       hdf63c60_0         5.1 MB\n",
      "    liblief-0.10.1             |       he6710b0_0         1.7 MB\n",
      "    libpng-1.6.37              |       hbc83047_0         278 KB\n",
      "    libprotobuf-3.11.4         |       hd408876_0         2.9 MB\n",
      "    libspatialindex-1.9.3      |       he6710b0_0         2.1 MB\n",
      "    libssh2-1.9.0              |       h1ba5d50_1         269 KB\n",
      "    libstdcxx-ng-9.1.0         |       hdf63c60_0         3.1 MB\n",
      "    libxcb-1.13                |       h1bed415_1         421 KB\n",
      "    lz4-c-1.9.2                |       he6710b0_0         191 KB\n",
      "    markupsafe-1.1.1           |   py37h7b6447c_0          29 KB\n",
      "    mkl-2019.4                 |              243       131.2 MB\n",
      "    ncurses-6.2                |       he6710b0_1         817 KB\n",
      "    patchelf-0.11              |       he6710b0_0          75 KB\n",
      "    pcre-8.43                  |       he6710b0_0         209 KB\n",
      "    pkginfo-1.5.0.1            |           py37_0          44 KB\n",
      "    psutil-5.7.0               |   py37h7b6447c_0         319 KB\n",
      "    py-lief-0.10.1             |   py37h403a769_0         919 KB\n",
      "    pycosat-0.6.3              |   py37h7b6447c_0          82 KB\n",
      "    pycparser-2.20             |             py_0          92 KB\n",
      "    pyopenssl-19.1.0           |           py37_0          87 KB\n",
      "    pysocks-1.7.1              |           py37_0          31 KB\n",
      "    python-3.7.7               |       hcff3b4d_5        45.1 MB\n",
      "    python-libarchive-c-2.9    |             py_0          46 KB\n",
      "    pytz-2020.1                |             py_0         184 KB\n",
      "    pyyaml-5.3.1               |   py37h7b6447c_0         181 KB\n",
      "    qtpy-1.9.0                 |             py_0          38 KB\n",
      "    readline-8.0               |       h7b6447c_0         356 KB\n",
      "    requests-2.24.0            |             py_0          56 KB\n",
      "    ripgrep-11.0.2             |       he32d670_0         1.3 MB\n",
      "    ruamel_yaml-0.15.87        |   py37h7b6447c_0         256 KB\n",
      "    setuptools-47.3.1          |           py37_0         514 KB\n",
      "    six-1.15.0                 |             py_0          13 KB\n",
      "    soupsieve-2.0.1            |             py_0          33 KB\n",
      "    sqlite-3.32.3              |       h62c20be_0         1.1 MB\n",
      "    tk-8.6.10                  |       hbc83047_0         3.0 MB\n",
      "    tqdm-4.46.1                |             py_0          60 KB\n",
      "    urllib3-1.25.9             |             py_0         103 KB\n",
      "    wheel-0.34.2               |           py37_0          51 KB\n",
      "    xz-5.2.5                   |       h7b6447c_0         341 KB\n",
      "    yaml-0.1.7                 |       had09818_2          73 KB\n",
      "    zlib-1.2.11                |       h7b6447c_3         103 KB\n",
      "    zstd-1.4.4                 |       h0b5b093_3         447 KB\n",
      "    ------------------------------------------------------------\n",
      "                                           Total:       221.8 MB\n",
      "\n",
      "The following NEW packages will be INSTALLED:\n",
      "\n",
      "  intel-openmp       pkgs/main/linux-64::intel-openmp-2019.4-243\n",
      "\n",
      "The following packages will be REMOVED:\n",
      "\n",
      "  _openmp_mutex-4.5-1_llvm\n",
      "  cairo-1.14.12-h8948797_3\n",
      "  fribidi-1.0.5-h7b6447c_0\n",
      "  gettext-0.19.8.1-hc5be6a0_1002\n",
      "  graphite2-1.3.13-h23475e2_0\n",
      "  graphviz-2.40.1-h21bd128_2\n",
      "  harfbuzz-1.8.8-hffaf4a1_0\n",
      "  libclang-9.0.1-default_hde54327_0\n",
      "  libiconv-1.15-h516909a_1006\n",
      "  libllvm9-9.0.1-he513fc3_1\n",
      "  libtiff-4.1.0-h2733197_1\n",
      "  libxkbcommon-0.10.0-he1b5a44_0\n",
      "  llvm-openmp-10.0.0-hc9558a2_0\n",
      "  lzo-2.10-h14c3975_1000\n",
      "  nspr-4.25-he1b5a44_0\n",
      "  nss-3.47-he751ad9_0\n",
      "  pango-1.42.4-h049681c_0\n",
      "  pixman-0.38.0-h7b6447c_0\n",
      "  pthread-stubs-0.4-h14c3975_1001\n",
      "  python-graphviz-0.14-py_0\n",
      "  xorg-libxau-1.0.9-h14c3975_0\n",
      "  xorg-libxdmcp-1.1.3-h516909a_0\n",
      "\n",
      "The following packages will be UPDATED:\n",
      "\n",
      "  backports.tempfile conda-forge::backports.tempfile-1.0-p~ --> pkgs/main::backports.tempfile-1.0-py_1\n",
      "  beautifulsoup4     conda-forge::beautifulsoup4-4.9.0-py3~ --> pkgs/main::beautifulsoup4-4.9.1-py37_0\n",
      "  cffi               conda-forge::cffi-1.14.0-py37hd463f26~ --> pkgs/main::cffi-1.14.0-py37he30daa8_1\n",
      "  dbus                  conda-forge::dbus-1.13.6-he372182_0 --> pkgs/main::dbus-1.13.14-hb2f20db_0\n",
      "  filelock                conda-forge::filelock-3.0.10-py_0 --> pkgs/main::filelock-3.0.12-py_0\n",
      "  freetype           conda-forge::freetype-2.10.1-he06d7ca~ --> pkgs/main::freetype-2.10.2-h5ab3b9f_0\n",
      "  libarchive         conda-forge::libarchive-3.3.3-h3a8160~ --> pkgs/main::libarchive-3.4.2-h62408e4_0\n",
      "  libedit            conda-forge::libedit-3.1.20170329-hf8~ --> pkgs/main::libedit-3.1.20191231-h7b6447c_0\n",
      "  libffi             conda-forge::libffi-3.2.1-he1b5a44_10~ --> pkgs/main::libffi-3.3-he6710b0_1\n",
      "  liblief             conda-forge::liblief-0.9.0-hf8a498c_1 --> pkgs/main::liblief-0.10.1-he6710b0_0\n",
      "  libssh2             conda-forge::libssh2-1.8.2-h22169c7_2 --> pkgs/main::libssh2-1.9.0-h1ba5d50_1\n",
      "  ncurses            conda-forge::ncurses-6.1-hf484d3e_1002 --> pkgs/main::ncurses-6.2-he6710b0_1\n",
      "  patchelf            conda-forge::patchelf-0.10-he1b5a44_0 --> pkgs/main::patchelf-0.11-he6710b0_0\n",
      "  py-lief            conda-forge::py-lief-0.9.0-py37he1b5a~ --> pkgs/main::py-lief-0.10.1-py37h403a769_0\n",
      "  python             conda-forge::python-3.7.6-h8356626_5_~ --> pkgs/main::python-3.7.7-hcff3b4d_5\n",
      "  requests           conda-forge::requests-2.23.0-pyh8c360~ --> pkgs/main::requests-2.24.0-py_0\n",
      "  ruamel_yaml        conda-forge::ruamel_yaml-0.15.80-py37~ --> pkgs/main::ruamel_yaml-0.15.87-py37h7b6447c_0\n",
      "  setuptools         conda-forge::setuptools-46.1.3-py37hc~ --> pkgs/main::setuptools-47.3.1-py37_0\n",
      "  six                          conda-forge::six-1.14.0-py_1 --> pkgs/main::six-1.15.0-py_0\n",
      "  soupsieve          conda-forge/linux-64::soupsieve-1.9.4~ --> pkgs/main/noarch::soupsieve-2.0.1-py_0\n",
      "  sqlite              conda-forge::sqlite-3.30.1-hcee41ef_0 --> pkgs/main::sqlite-3.32.3-h62c20be_0\n",
      "  tqdm                conda-forge::tqdm-4.45.0-pyh9f0ad1d_1 --> pkgs/main::tqdm-4.46.1-py_0\n",
      "\n",
      "The following packages will be SUPERSEDED by a higher-priority channel:\n",
      "\n",
      "  _libgcc_mutex      conda-forge::_libgcc_mutex-0.1-conda_~ --> pkgs/main::_libgcc_mutex-0.1-main\n",
      "  backports                                     conda-forge --> pkgs/main\n",
      "  backports.functoo~                            conda-forge --> pkgs/main\n",
      "  backports.weakref  conda-forge/linux-64::backports.weakr~ --> pkgs/main/noarch::backports.weakref-1.0.post1-py_1\n",
      "  brotlipy           conda-forge::brotlipy-0.7.0-py37h8f50~ --> pkgs/main::brotlipy-0.7.0-py37h7b6447c_1000\n",
      "  bzip2                 conda-forge::bzip2-1.0.8-h516909a_2 --> pkgs/main::bzip2-1.0.8-h7b6447c_0\n",
      "  chardet            conda-forge::chardet-3.0.4-py37hc8dfb~ --> pkgs/main::chardet-3.0.4-py37_1003\n",
      "  click               conda-forge::click-7.1.2-pyh9f0ad1d_0 --> pkgs/main::click-7.1.2-py_0\n",
      "  cryptography       conda-forge::cryptography-2.9.2-py37h~ --> pkgs/main::cryptography-2.9.2-py37h1ba5d50_0\n",
      "  expat                 conda-forge::expat-2.2.9-he1b5a44_2 --> pkgs/main::expat-2.2.6-he6710b0_0\n",
      "  future             conda-forge::future-0.18.2-py37hc8dfb~ --> pkgs/main::future-0.18.2-py37_1\n",
      "  glib                  conda-forge::glib-2.64.2-h6f030ca_0 --> pkgs/main::glib-2.63.1-h3eb4bd4_1\n",
      "  glob2                                         conda-forge --> pkgs/main\n",
      "  gst-plugins-base   conda-forge::gst-plugins-base-1.14.5-~ --> pkgs/main::gst-plugins-base-1.14.0-hbbd80ab_1\n",
      "  gstreamer          conda-forge::gstreamer-1.14.5-h36ae1b~ --> pkgs/main::gstreamer-1.14.0-hb31296c_0\n",
      "  idna                                          conda-forge --> pkgs/main\n",
      "  jinja2             conda-forge::jinja2-2.11.2-pyh9f0ad1d~ --> pkgs/main::jinja2-2.11.2-py_0\n",
      "  jpeg                   conda-forge::jpeg-9c-h14c3975_1001 --> pkgs/main::jpeg-9b-h024ee3a_2\n",
      "  krb5                  conda-forge::krb5-1.17.1-h2fd8d38_0 --> pkgs/main::krb5-1.17.1-h173b8e3_0\n",
      "  ld_impl_linux-64   conda-forge::ld_impl_linux-64-2.34-h5~ --> pkgs/main::ld_impl_linux-64-2.33.1-h53a641e_7\n",
      "  libcurl            conda-forge::libcurl-7.69.1-hf7181ac_0 --> pkgs/main::libcurl-7.69.1-h20c2e04_0\n",
      "  libgcc-ng          conda-forge::libgcc-ng-9.2.0-h24d8f2e~ --> pkgs/main::libgcc-ng-9.1.0-hdf63c60_0\n",
      "  libpng              conda-forge::libpng-1.6.37-hed695b0_1 --> pkgs/main::libpng-1.6.37-hbc83047_0\n",
      "  libprotobuf        conda-forge::libprotobuf-3.11.4-h8b12~ --> pkgs/main::libprotobuf-3.11.4-hd408876_0\n",
      "  libspatialindex    conda-forge::libspatialindex-1.9.3-he~ --> pkgs/main::libspatialindex-1.9.3-he6710b0_0\n",
      "  libstdcxx-ng       conda-forge::libstdcxx-ng-9.2.0-hdf63~ --> pkgs/main::libstdcxx-ng-9.1.0-hdf63c60_0\n",
      "  libxcb             conda-forge::libxcb-1.13-h14c3975_1002 --> pkgs/main::libxcb-1.13-h1bed415_1\n",
      "  lz4-c                 conda-forge::lz4-c-1.9.2-he1b5a44_0 --> pkgs/main::lz4-c-1.9.2-he6710b0_0\n",
      "  markupsafe         conda-forge::markupsafe-1.1.1-py37h8f~ --> pkgs/main::markupsafe-1.1.1-py37h7b6447c_0\n",
      "  mkl                           conda-forge::mkl-2019.5-281 --> pkgs/main::mkl-2019.4-243\n",
      "  pcre                    conda-forge::pcre-8.44-he1b5a44_0 --> pkgs/main::pcre-8.43-he6710b0_0\n",
      "  pkginfo            conda-forge/noarch::pkginfo-1.5.0.1-p~ --> pkgs/main/linux-64::pkginfo-1.5.0.1-py37_0\n",
      "  psutil             conda-forge::psutil-5.7.0-py37h8f5063~ --> pkgs/main::psutil-5.7.0-py37h7b6447c_0\n",
      "  pycosat            conda-forge::pycosat-0.6.3-py37h8f506~ --> pkgs/main::pycosat-0.6.3-py37h7b6447c_0\n",
      "  pycparser                                     conda-forge --> pkgs/main\n",
      "  pyopenssl          conda-forge/noarch::pyopenssl-19.1.0-~ --> pkgs/main/linux-64::pyopenssl-19.1.0-py37_0\n",
      "  pysocks            conda-forge::pysocks-1.7.1-py37hc8dfb~ --> pkgs/main::pysocks-1.7.1-py37_0\n",
      "  python-libarchive~ conda-forge/linux-64::python-libarchi~ --> pkgs/main/noarch::python-libarchive-c-2.9-py_0\n",
      "  pytz                conda-forge::pytz-2020.1-pyh9f0ad1d_0 --> pkgs/main::pytz-2020.1-py_0\n",
      "  pyyaml             conda-forge::pyyaml-5.3.1-py37h8f5063~ --> pkgs/main::pyyaml-5.3.1-py37h7b6447c_0\n",
      "  qtpy                                          conda-forge --> pkgs/main\n",
      "  readline             conda-forge::readline-8.0-hf8c457e_0 --> pkgs/main::readline-8.0-h7b6447c_0\n",
      "  ripgrep            conda-forge::ripgrep-12.0.1-h516909a_1 --> pkgs/main::ripgrep-11.0.2-he32d670_0\n",
      "  tk                      conda-forge::tk-8.6.10-hed695b0_0 --> pkgs/main::tk-8.6.10-hbc83047_0\n",
      "  urllib3                                       conda-forge --> pkgs/main\n",
      "  wheel               conda-forge/noarch::wheel-0.34.2-py_1 --> pkgs/main/linux-64::wheel-0.34.2-py37_0\n",
      "  xz                       conda-forge::xz-5.2.5-h516909a_0 --> pkgs/main::xz-5.2.5-h7b6447c_0\n",
      "  yaml                   conda-forge::yaml-0.2.4-h516909a_0 --> pkgs/main::yaml-0.1.7-had09818_2\n",
      "  zlib               conda-forge::zlib-1.2.11-h516909a_1006 --> pkgs/main::zlib-1.2.11-h7b6447c_3\n",
      "  zstd                   conda-forge::zstd-1.4.4-h6597ccf_3 --> pkgs/main::zstd-1.4.4-h0b5b093_3\n",
      "\n",
      "\n",
      "\n",
      "Downloading and Extracting Packages\n",
      "jpeg-9b              | 214 KB    | ##################################### | 100% \n",
      "xz-5.2.5             | 341 KB    | ##################################### | 100% \n",
      "libxcb-1.13          | 421 KB    | ##################################### | 100% \n",
      "libssh2-1.9.0        | 269 KB    | ##################################### | 100% \n",
      "tk-8.6.10            | 3.0 MB    | ##################################### | 100% \n",
      "zlib-1.2.11          | 103 KB    | ##################################### | 100% \n",
      "pycparser-2.20       | 92 KB     | ##################################### | 100% \n",
      "libpng-1.6.37        | 278 KB    | ##################################### | 100% \n",
      "ripgrep-11.0.2       | 1.3 MB    | ##################################### | 100% \n",
      "pyyaml-5.3.1         | 181 KB    | ##################################### | 100% \n",
      "cryptography-2.9.2   | 552 KB    | ##################################### | 100% \n",
      "libgcc-ng-9.1.0      | 5.1 MB    | ##############################1       |  82% \n",
      "python-3.7.7         | 45.1 MB   | ##################################### | 100% \n",
      "ncurses-6.2          | 817 KB    | ##################################### | 100% \n",
      "filelock-3.0.12      | 13 KB     | ##################################### | 100% \n",
      "tqdm-4.46.1          | 60 KB     | ##################################### | 100% \n",
      "py-lief-0.10.1       | 919 KB    | ##################################### | 100% \n",
      "pycosat-0.6.3        | 82 KB     | ##################################### | 100% \n",
      "backports.tempfile-1 | 15 KB     | ##################################### | 100% \n",
      "dbus-1.13.14         | 504 KB    | ##################################### | 100% \n",
      "pyopenssl-19.1.0     | 87 KB     | ##################################### | 100% \n",
      "expat-2.2.6          | 146 KB    | ##################################### | 100% \n",
      "requests-2.24.0      | 56 KB     | ##################################### | 100% \n",
      "click-7.1.2          | 71 KB     | ##################################### | 100% \n",
      "future-0.18.2        | 631 KB    | ##################################### | 100% \n",
      "markupsafe-1.1.1     | 29 KB     | ##################################### | 100% \n",
      "libcurl-7.69.1       | 431 KB    | ##################################### | 100% \n",
      "jinja2-2.11.2        | 103 KB    | ##################################### | 100% \n",
      "bzip2-1.0.8          | 78 KB     | ##################################### | 100% \n",
      "pcre-8.43            | 209 KB    | ##################################### | 100% \n",
      "backports.functools_ | 11 KB     | ##################################### | 100% \n",
      "glib-2.63.1          | 2.9 MB    | ##################################### | 100% \n",
      "libprotobuf-3.11.4   | 2.9 MB    | ##################################### | 100% \n",
      "zstd-1.4.4           | 447 KB    | ##################################### | 100% \n",
      "gstreamer-1.14.0     | 3.1 MB    | ##################################### | 100% \n",
      "brotlipy-0.7.0       | 322 KB    | ##################################### | 100% \n",
      "_libgcc_mutex-0.1    | 3 KB      | ##################################### | 100% \n",
      "patchelf-0.11        | 75 KB     | ##################################### | 100% \n",
      "idna-2.9             | 49 KB     | ##################################### | 100% \n",
      "psutil-5.7.0         | 319 KB    | ##################################### | 100% \n",
      "chardet-3.0.4        | 174 KB    | ##################################### | 100% \n",
      "glob2-0.7            | 15 KB     | ##################################### | 100% \n",
      "pkginfo-1.5.0.1      | 44 KB     | ##################################### | 100% \n",
      "python-libarchive-c- | 46 KB     | ##################################### | 100% \n",
      "ruamel_yaml-0.15.87  | 256 KB    | ##################################### | 100% \n",
      "soupsieve-2.0.1      | 33 KB     | ##################################### | 100% \n",
      "lz4-c-1.9.2          | 191 KB    | ##################################### | 100% \n",
      "backports-1.0        | 160 KB    | ##################################### | 100% \n",
      "six-1.15.0           | 13 KB     | ##################################### | 100% \n",
      "pysocks-1.7.1        | 31 KB     | ##################################### | 100% \n",
      "gst-plugins-base-1.1 | 4.8 MB    | ##################################### | 100% \n",
      "cffi-1.14.0          | 224 KB    | ##################################### | 100% \n",
      "libstdcxx-ng-9.1.0   | 3.1 MB    | ##################################### | 100% \n",
      "setuptools-47.3.1    | 514 KB    | ##################################### | 100% \n",
      "beautifulsoup4-4.9.1 | 165 KB    | ##################################### | 100% \n",
      "mkl-2019.4           | 131.2 MB  | ##################################### | 100% \n",
      "yaml-0.1.7           | 73 KB     | ##################################### | 100% \n",
      "urllib3-1.25.9       | 103 KB    | ##################################### | 100% \n",
      "liblief-0.10.1       | 1.7 MB    | ##################################### | 100% \n",
      "libedit-3.1.20191231 | 167 KB    | ##################################### | 100% \n",
      "readline-8.0         | 356 KB    | ##################################### | 100% \n",
      "freetype-2.10.2      | 608 KB    | ##################################### | 100% \n",
      "wheel-0.34.2         | 51 KB     | ##################################### | 100% \n",
      "libarchive-3.4.2     | 796 KB    | ##################################### | 100% \n",
      "pytz-2020.1          | 184 KB    | ##################################### | 100% \n",
      "qtpy-1.9.0           | 38 KB     | ##################################### | 100% \n",
      "libffi-3.3           | 50 KB     | ##################################### | 100% \n",
      "ld_impl_linux-64-2.3 | 568 KB    | ##################################### | 100% \n",
      "sqlite-3.32.3        | 1.1 MB    | ##################################### | 100% \n",
      "krb5-1.17.1          | 1.3 MB    | ##################################### | 100% \n",
      "libspatialindex-1.9. | 2.1 MB    | ##################################### | 100% \n",
      "intel-openmp-2019.4  | 729 KB    | ##################################### | 100% \n",
      "backports.weakref-1. | 8 KB      | ##################################### | 100% \n",
      "\n",
      "('Connection broken: OSError(\"(104, \\'ECONNRESET\\')\")', OSError(\"(104, 'ECONNRESET')\"))\n",
      "\n",
      "Collecting package metadata (repodata.json): done\n",
      "Solving environment: done\n",
      "\n",
      "## Package Plan ##\n",
      "\n",
      "  environment location: /opt/conda/envs/springboard\n",
      "\n",
      "  removed specs:\n",
      "    - graphviz\n",
      "\n",
      "\n",
      "The following packages will be downloaded:\n",
      "\n",
      "    package                    |            build\n",
      "    ---------------------------|-----------------\n",
      "    libgcc-ng-9.1.0            |       hdf63c60_0         5.1 MB\n",
      "    ------------------------------------------------------------\n",
      "                                           Total:         5.1 MB\n",
      "\n",
      "The following NEW packages will be INSTALLED:\n",
      "\n",
      "  intel-openmp       pkgs/main/linux-64::intel-openmp-2019.4-243\n",
      "\n",
      "The following packages will be REMOVED:\n",
      "\n",
      "  _openmp_mutex-4.5-1_llvm\n",
      "  cairo-1.14.12-h8948797_3\n",
      "  fribidi-1.0.5-h7b6447c_0\n",
      "  gettext-0.19.8.1-hc5be6a0_1002\n",
      "  graphite2-1.3.13-h23475e2_0\n",
      "  graphviz-2.40.1-h21bd128_2\n",
      "  harfbuzz-1.8.8-hffaf4a1_0\n",
      "  libclang-9.0.1-default_hde54327_0\n",
      "  libiconv-1.15-h516909a_1006\n",
      "  libllvm9-9.0.1-he513fc3_1\n",
      "  libtiff-4.1.0-h2733197_1\n",
      "  libxkbcommon-0.10.0-he1b5a44_0\n",
      "  llvm-openmp-10.0.0-hc9558a2_0\n",
      "  lzo-2.10-h14c3975_1000\n",
      "  nspr-4.25-he1b5a44_0\n",
      "  nss-3.47-he751ad9_0\n",
      "  pango-1.42.4-h049681c_0\n",
      "  pixman-0.38.0-h7b6447c_0\n",
      "  pthread-stubs-0.4-h14c3975_1001\n",
      "  python-graphviz-0.14-py_0\n",
      "  xorg-libxau-1.0.9-h14c3975_0\n",
      "  xorg-libxdmcp-1.1.3-h516909a_0\n",
      "\n",
      "The following packages will be UPDATED:\n",
      "\n",
      "  backports.tempfile conda-forge::backports.tempfile-1.0-p~ --> pkgs/main::backports.tempfile-1.0-py_1\n",
      "  beautifulsoup4     conda-forge::beautifulsoup4-4.9.0-py3~ --> pkgs/main::beautifulsoup4-4.9.1-py37_0\n",
      "  cffi               conda-forge::cffi-1.14.0-py37hd463f26~ --> pkgs/main::cffi-1.14.0-py37he30daa8_1\n",
      "  dbus                  conda-forge::dbus-1.13.6-he372182_0 --> pkgs/main::dbus-1.13.14-hb2f20db_0\n",
      "  filelock                conda-forge::filelock-3.0.10-py_0 --> pkgs/main::filelock-3.0.12-py_0\n",
      "  freetype           conda-forge::freetype-2.10.1-he06d7ca~ --> pkgs/main::freetype-2.10.2-h5ab3b9f_0\n",
      "  libarchive         conda-forge::libarchive-3.3.3-h3a8160~ --> pkgs/main::libarchive-3.4.2-h62408e4_0\n",
      "  libedit            conda-forge::libedit-3.1.20170329-hf8~ --> pkgs/main::libedit-3.1.20191231-h7b6447c_0\n",
      "  libffi             conda-forge::libffi-3.2.1-he1b5a44_10~ --> pkgs/main::libffi-3.3-he6710b0_1\n",
      "  liblief             conda-forge::liblief-0.9.0-hf8a498c_1 --> pkgs/main::liblief-0.10.1-he6710b0_0\n",
      "  libssh2             conda-forge::libssh2-1.8.2-h22169c7_2 --> pkgs/main::libssh2-1.9.0-h1ba5d50_1\n",
      "  ncurses            conda-forge::ncurses-6.1-hf484d3e_1002 --> pkgs/main::ncurses-6.2-he6710b0_1\n",
      "  patchelf            conda-forge::patchelf-0.10-he1b5a44_0 --> pkgs/main::patchelf-0.11-he6710b0_0\n",
      "  py-lief            conda-forge::py-lief-0.9.0-py37he1b5a~ --> pkgs/main::py-lief-0.10.1-py37h403a769_0\n",
      "  python             conda-forge::python-3.7.6-h8356626_5_~ --> pkgs/main::python-3.7.7-hcff3b4d_5\n",
      "  requests           conda-forge::requests-2.23.0-pyh8c360~ --> pkgs/main::requests-2.24.0-py_0\n",
      "  ruamel_yaml        conda-forge::ruamel_yaml-0.15.80-py37~ --> pkgs/main::ruamel_yaml-0.15.87-py37h7b6447c_0\n",
      "  setuptools         conda-forge::setuptools-46.1.3-py37hc~ --> pkgs/main::setuptools-47.3.1-py37_0\n",
      "  six                          conda-forge::six-1.14.0-py_1 --> pkgs/main::six-1.15.0-py_0\n",
      "  soupsieve          conda-forge/linux-64::soupsieve-1.9.4~ --> pkgs/main/noarch::soupsieve-2.0.1-py_0\n",
      "  sqlite              conda-forge::sqlite-3.30.1-hcee41ef_0 --> pkgs/main::sqlite-3.32.3-h62c20be_0\n",
      "  tqdm                conda-forge::tqdm-4.45.0-pyh9f0ad1d_1 --> pkgs/main::tqdm-4.46.1-py_0\n",
      "\n",
      "The following packages will be SUPERSEDED by a higher-priority channel:\n",
      "\n",
      "  _libgcc_mutex      conda-forge::_libgcc_mutex-0.1-conda_~ --> pkgs/main::_libgcc_mutex-0.1-main\n",
      "  backports                                     conda-forge --> pkgs/main\n",
      "  backports.functoo~                            conda-forge --> pkgs/main\n",
      "  backports.weakref  conda-forge/linux-64::backports.weakr~ --> pkgs/main/noarch::backports.weakref-1.0.post1-py_1\n",
      "  brotlipy           conda-forge::brotlipy-0.7.0-py37h8f50~ --> pkgs/main::brotlipy-0.7.0-py37h7b6447c_1000\n",
      "  bzip2                 conda-forge::bzip2-1.0.8-h516909a_2 --> pkgs/main::bzip2-1.0.8-h7b6447c_0\n",
      "  chardet            conda-forge::chardet-3.0.4-py37hc8dfb~ --> pkgs/main::chardet-3.0.4-py37_1003\n",
      "  click               conda-forge::click-7.1.2-pyh9f0ad1d_0 --> pkgs/main::click-7.1.2-py_0\n",
      "  cryptography       conda-forge::cryptography-2.9.2-py37h~ --> pkgs/main::cryptography-2.9.2-py37h1ba5d50_0\n",
      "  expat                 conda-forge::expat-2.2.9-he1b5a44_2 --> pkgs/main::expat-2.2.6-he6710b0_0\n",
      "  future             conda-forge::future-0.18.2-py37hc8dfb~ --> pkgs/main::future-0.18.2-py37_1\n",
      "  glib                  conda-forge::glib-2.64.2-h6f030ca_0 --> pkgs/main::glib-2.63.1-h3eb4bd4_1\n",
      "  glob2                                         conda-forge --> pkgs/main\n",
      "  gst-plugins-base   conda-forge::gst-plugins-base-1.14.5-~ --> pkgs/main::gst-plugins-base-1.14.0-hbbd80ab_1\n",
      "  gstreamer          conda-forge::gstreamer-1.14.5-h36ae1b~ --> pkgs/main::gstreamer-1.14.0-hb31296c_0\n",
      "  idna                                          conda-forge --> pkgs/main\n",
      "  jinja2             conda-forge::jinja2-2.11.2-pyh9f0ad1d~ --> pkgs/main::jinja2-2.11.2-py_0\n",
      "  jpeg                   conda-forge::jpeg-9c-h14c3975_1001 --> pkgs/main::jpeg-9b-h024ee3a_2\n",
      "  krb5                  conda-forge::krb5-1.17.1-h2fd8d38_0 --> pkgs/main::krb5-1.17.1-h173b8e3_0\n",
      "  ld_impl_linux-64   conda-forge::ld_impl_linux-64-2.34-h5~ --> pkgs/main::ld_impl_linux-64-2.33.1-h53a641e_7\n",
      "  libcurl            conda-forge::libcurl-7.69.1-hf7181ac_0 --> pkgs/main::libcurl-7.69.1-h20c2e04_0\n",
      "  libgcc-ng          conda-forge::libgcc-ng-9.2.0-h24d8f2e~ --> pkgs/main::libgcc-ng-9.1.0-hdf63c60_0\n",
      "  libpng              conda-forge::libpng-1.6.37-hed695b0_1 --> pkgs/main::libpng-1.6.37-hbc83047_0\n",
      "  libprotobuf        conda-forge::libprotobuf-3.11.4-h8b12~ --> pkgs/main::libprotobuf-3.11.4-hd408876_0\n",
      "  libspatialindex    conda-forge::libspatialindex-1.9.3-he~ --> pkgs/main::libspatialindex-1.9.3-he6710b0_0\n",
      "  libstdcxx-ng       conda-forge::libstdcxx-ng-9.2.0-hdf63~ --> pkgs/main::libstdcxx-ng-9.1.0-hdf63c60_0\n",
      "  libxcb             conda-forge::libxcb-1.13-h14c3975_1002 --> pkgs/main::libxcb-1.13-h1bed415_1\n",
      "  lz4-c                 conda-forge::lz4-c-1.9.2-he1b5a44_0 --> pkgs/main::lz4-c-1.9.2-he6710b0_0\n",
      "  markupsafe         conda-forge::markupsafe-1.1.1-py37h8f~ --> pkgs/main::markupsafe-1.1.1-py37h7b6447c_0\n",
      "  mkl                           conda-forge::mkl-2019.5-281 --> pkgs/main::mkl-2019.4-243\n",
      "  pcre                    conda-forge::pcre-8.44-he1b5a44_0 --> pkgs/main::pcre-8.43-he6710b0_0\n",
      "  pkginfo            conda-forge/noarch::pkginfo-1.5.0.1-p~ --> pkgs/main/linux-64::pkginfo-1.5.0.1-py37_0\n",
      "  psutil             conda-forge::psutil-5.7.0-py37h8f5063~ --> pkgs/main::psutil-5.7.0-py37h7b6447c_0\n",
      "  pycosat            conda-forge::pycosat-0.6.3-py37h8f506~ --> pkgs/main::pycosat-0.6.3-py37h7b6447c_0\n",
      "  pycparser                                     conda-forge --> pkgs/main\n",
      "  pyopenssl          conda-forge/noarch::pyopenssl-19.1.0-~ --> pkgs/main/linux-64::pyopenssl-19.1.0-py37_0\n",
      "  pysocks            conda-forge::pysocks-1.7.1-py37hc8dfb~ --> pkgs/main::pysocks-1.7.1-py37_0\n",
      "  python-libarchive~ conda-forge/linux-64::python-libarchi~ --> pkgs/main/noarch::python-libarchive-c-2.9-py_0\n",
      "  pytz                conda-forge::pytz-2020.1-pyh9f0ad1d_0 --> pkgs/main::pytz-2020.1-py_0\n",
      "  pyyaml             conda-forge::pyyaml-5.3.1-py37h8f5063~ --> pkgs/main::pyyaml-5.3.1-py37h7b6447c_0\n",
      "  qtpy                                          conda-forge --> pkgs/main\n",
      "  readline             conda-forge::readline-8.0-hf8c457e_0 --> pkgs/main::readline-8.0-h7b6447c_0\n",
      "  ripgrep            conda-forge::ripgrep-12.0.1-h516909a_1 --> pkgs/main::ripgrep-11.0.2-he32d670_0\n",
      "  tk                      conda-forge::tk-8.6.10-hed695b0_0 --> pkgs/main::tk-8.6.10-hbc83047_0\n",
      "  urllib3                                       conda-forge --> pkgs/main\n",
      "  wheel               conda-forge/noarch::wheel-0.34.2-py_1 --> pkgs/main/linux-64::wheel-0.34.2-py37_0\n",
      "  xz                       conda-forge::xz-5.2.5-h516909a_0 --> pkgs/main::xz-5.2.5-h7b6447c_0\n",
      "  yaml                   conda-forge::yaml-0.2.4-h516909a_0 --> pkgs/main::yaml-0.1.7-had09818_2\n",
      "  zlib               conda-forge::zlib-1.2.11-h516909a_1006 --> pkgs/main::zlib-1.2.11-h7b6447c_3\n",
      "  zstd                   conda-forge::zstd-1.4.4-h6597ccf_3 --> pkgs/main::zstd-1.4.4-h0b5b093_3\n",
      "\n",
      "\n",
      "\n",
      "Downloading and Extracting Packages\n",
      "libgcc-ng-9.1.0      | 5.1 MB    | ##################################### | 100% \n",
      "Preparing transaction: done\n",
      "Verifying transaction: done\n",
      "Executing transaction: done\n"
     ]
    }
   ],
   "source": [
    "!conda uninstall python-graphviz -y\n",
    "!conda uninstall graphviz -y"
   ]
  },
  {
   "cell_type": "code",
   "execution_count": 32,
   "metadata": {},
   "outputs": [
    {
     "name": "stdout",
     "output_type": "stream",
     "text": [
      "Collecting graphviz\n",
      "  Using cached graphviz-0.14-py2.py3-none-any.whl (18 kB)\n",
      "Installing collected packages: graphviz\n",
      "Successfully installed graphviz-0.14\n"
     ]
    }
   ],
   "source": [
    "!pip install graphviz"
   ]
  },
  {
   "cell_type": "markdown",
   "metadata": {},
   "source": [
    "If for any reason this way of installing doesn't work for you straight out of the box, please refer to the more detailed documentation here: https://github.com/parrt/dtreeviz"
   ]
  },
  {
   "cell_type": "markdown",
   "metadata": {},
   "source": [
    "Now you're ready to visualize your Decision Tree model! Please feel free to use the blog post for guidance and inspiration!"
   ]
  },
  {
   "cell_type": "code",
   "execution_count": null,
   "metadata": {},
   "outputs": [],
   "source": [
    "# Your code here! :)\n",
    "from dtreeviz.trees import *\n",
    "\n",
    "features_name = list(train_X.columns)\n",
    "\n",
    "viz = dtreeviz(\n",
    "    clf.best_estimator_,\n",
    "    train_X,\n",
    "    train_y,\n",
    "    target_name=\"Class\",\n",
    "    feature_names = features_name,\n",
    "    class_names = [\"Good\", \"Bad\"]\n",
    ")\n",
    "\n",
    "viz.view()"
   ]
  },
  {
   "cell_type": "markdown",
   "metadata": {},
   "source": [
    "## Random Forests"
   ]
  },
  {
   "cell_type": "markdown",
   "metadata": {},
   "source": [
    "As discussed in the lecture videos, Decision Tree algorithms also have certain undesireable properties. Mainly the have low bias, which is good, but tend to have high variance - which is *not* so good (more about this problem here: https://en.wikipedia.org/wiki/Bias%E2%80%93variance_tradeoff)."
   ]
  },
  {
   "cell_type": "markdown",
   "metadata": {},
   "source": [
    "Noticing these problems, the late Professor Leo Breiman, in 2001, developed the Random Forests algorithm, which mitigates these problems, while at the same time providing even higher predictive accuracy than the majority of Decision Tree algorithm implementations. While the curriculum contains two excellent lectures on Random Forests, if you're interested, you can dive into the original paper here: https://link.springer.com/content/pdf/10.1023%2FA%3A1010933404324.pdf."
   ]
  },
  {
   "cell_type": "markdown",
   "metadata": {},
   "source": [
    "In the next part of this assignment, your are going to use the same \"German Credit\" dataset to train, tune, and measure the performance of a Random Forests model. You will also see certain functionalities that this model, even though it's a bit of a \"black box\", provides for some degree of interpretability."
   ]
  },
  {
   "cell_type": "markdown",
   "metadata": {},
   "source": [
    "First, let's build a Random Forests model, using the same best practices that you've used for your Decision Trees model. You can reuse the things you've already imported there, so no need to do any re-imports, new train/test splits, or loading up the data again."
   ]
  },
  {
   "cell_type": "code",
   "execution_count": 35,
   "metadata": {},
   "outputs": [],
   "source": [
    "from sklearn.ensemble import RandomForestClassifier"
   ]
  },
  {
   "cell_type": "code",
   "execution_count": 40,
   "metadata": {},
   "outputs": [
    {
     "data": {
      "text/plain": [
       "GridSearchCV(cv=None, error_score=nan,\n",
       "             estimator=RandomForestClassifier(bootstrap=True, ccp_alpha=0.0,\n",
       "                                              class_weight=None,\n",
       "                                              criterion='gini', max_depth=None,\n",
       "                                              max_features='auto',\n",
       "                                              max_leaf_nodes=None,\n",
       "                                              max_samples=None,\n",
       "                                              min_impurity_decrease=0.0,\n",
       "                                              min_impurity_split=None,\n",
       "                                              min_samples_leaf=1,\n",
       "                                              min_samples_split=2,\n",
       "                                              min_weight_fraction_leaf=0.0,\n",
       "                                              n_estimators=100, n_jobs=None,\n",
       "                                              oob_score=False, random_state=10,\n",
       "                                              verbose=0, warm_start=False),\n",
       "             iid='deprecated', n_jobs=None,\n",
       "             param_grid={'criterion': ['gini', 'entropy'],\n",
       "                         'max_depth': [4, 8, 10],\n",
       "                         'min_samples_leaf': [1, 2, 5, 10],\n",
       "                         'min_samples_split': [2, 5, 10],\n",
       "                         'n_estimators': [100, 150, 200]},\n",
       "             pre_dispatch='2*n_jobs', refit=True, return_train_score=False,\n",
       "             scoring=None, verbose=0)"
      ]
     },
     "execution_count": 40,
     "metadata": {},
     "output_type": "execute_result"
    }
   ],
   "source": [
    "# Your code here! :)\n",
    "rf = RandomForestClassifier(random_state=10)\n",
    "\n",
    "RF_Parameters={\n",
    "    \"n_estimators\": [100, 150, 200],\n",
    "    \"criterion\": [\"gini\", \"entropy\"],\n",
    "    \"max_depth\": [4, 8, 10],\n",
    "    \"min_samples_split\": [2, 5, 10],\n",
    "    \"min_samples_leaf\": [1, 2, 5, 10]\n",
    "}\n",
    "\n",
    "rf_gs = GridSearchCV(rf, RF_Parameters)\n",
    "rf_gs.fit(train_X, train_y)\n"
   ]
  },
  {
   "cell_type": "code",
   "execution_count": 44,
   "metadata": {},
   "outputs": [
    {
     "name": "stdout",
     "output_type": "stream",
     "text": [
      "0.7633333333333333\n"
     ]
    }
   ],
   "source": [
    "print(accuracy_score(rf_gs.best_estimator_.predict(test_X),  test_y))"
   ]
  },
  {
   "cell_type": "markdown",
   "metadata": {},
   "source": [
    "As mentioned, there are certain ways to \"peek\" into a model created by the Random Forests algorithm. The first, and most popular one, is the Feature Importance calculation functionality. This allows the ML practitioner to see an ordering of the importance of the features that have contributed the most to the predictive accuracy of the model. \n",
    "\n",
    "You can see how to use this in the scikit-learn documentation (http://scikit-learn.org/stable/modules/generated/sklearn.ensemble.RandomForestClassifier.html#sklearn.ensemble.RandomForestClassifier.feature_importances_). Now, if you tried this, you would just get an ordered table of not directly interpretable numeric values. Thus, it's much more useful to show the feature importance in a visual way. You can see an example of how that's done here: http://scikit-learn.org/stable/auto_examples/ensemble/plot_forest_importances.html#sphx-glr-auto-examples-ensemble-plot-forest-importances-py\n",
    "\n",
    "Now you try! Let's visualize the importance of features from your Random Forests model!"
   ]
  },
  {
   "cell_type": "code",
   "execution_count": 56,
   "metadata": {},
   "outputs": [
    {
     "name": "stdout",
     "output_type": "stream",
     "text": [
      "feat_name: Purpose.NewCar, importance metric: 0.020739525014753752\n",
      "feat_name: CreditHistory.Critical, importance metric: 0.020915798543736406\n",
      "feat_name: ResidenceDuration, importance metric: 0.028026754608161498\n",
      "feat_name: InstallmentRatePercentage, importance metric: 0.02843273139374998\n",
      "feat_name: SavingsAccountBonds.lt.100, importance metric: 0.03155437122073195\n",
      "feat_name: CheckingAccountStatus.lt.0, importance metric: 0.049239890401760605\n",
      "feat_name: Age, importance metric: 0.0630549719798699\n",
      "feat_name: Duration, importance metric: 0.06966134096833647\n",
      "feat_name: CheckingAccountStatus.none, importance metric: 0.0865084047622561\n",
      "feat_name: Amount, importance metric: 0.10548807425908663\n"
     ]
    }
   ],
   "source": [
    "top10_feats = rf_gs.best_estimator_.feature_importances_.argsort()[-10:]\n",
    "all_feats_importance = rf_gs.best_estimator_.feature_importances_\n",
    "all_feats = list(train_X.columns)\n",
    "for idx in top10_feats:\n",
    "    print(\"feat_name: {0}, importance metric: {1}\".format(all_feats[idx], all_feats_importance[idx]))\n",
    "\n"
   ]
  },
  {
   "cell_type": "markdown",
   "metadata": {},
   "source": [
    "A final method for gaining some insight into the inner working of your Random Forests models is a so-called Partial Dependence Plot. The Partial Dependence Plot (PDP or PD plot) shows the marginal effect of a feature on the predicted outcome of a previously fit model. The prediction function is fixed at a few values of the chosen features and averaged over the other features. A partial dependence plot can show if the relationship between the target and a feature is linear, monotonic or more complex. \n",
    "\n",
    "In scikit-learn, PDPs are implemented and available for certain algorithms, but at this point (version 0.20.0) they are not yet implemented for Random Forests. Thankfully, there is an add-on package called **PDPbox** (https://pdpbox.readthedocs.io/en/latest/) which adds this functionality to Random Forests. The package is easy to install through pip."
   ]
  },
  {
   "cell_type": "code",
   "execution_count": 57,
   "metadata": {},
   "outputs": [
    {
     "name": "stdout",
     "output_type": "stream",
     "text": [
      "Requirement already satisfied: pdpbox in /opt/conda/envs/springboard/lib/python3.7/site-packages (0.2.0)\n",
      "Requirement already satisfied: joblib in /opt/conda/envs/springboard/lib/python3.7/site-packages (from pdpbox) (0.14.1)\n",
      "Requirement already satisfied: numpy in /opt/conda/envs/springboard/lib/python3.7/site-packages (from pdpbox) (1.18.1)\n",
      "Requirement already satisfied: scipy in /opt/conda/envs/springboard/lib/python3.7/site-packages (from pdpbox) (1.4.1)\n",
      "Requirement already satisfied: pandas in /opt/conda/envs/springboard/lib/python3.7/site-packages (from pdpbox) (1.0.1)\n",
      "Requirement already satisfied: matplotlib>=2.1.2 in /opt/conda/envs/springboard/lib/python3.7/site-packages (from pdpbox) (3.1.3)\n",
      "Requirement already satisfied: psutil in /opt/conda/envs/springboard/lib/python3.7/site-packages (from pdpbox) (5.7.0)\n",
      "Requirement already satisfied: scikit-learn in /opt/conda/envs/springboard/lib/python3.7/site-packages (from pdpbox) (0.22.1)\n",
      "Requirement already satisfied: python-dateutil>=2.6.1 in /opt/conda/envs/springboard/lib/python3.7/site-packages (from pandas->pdpbox) (2.8.1)\n",
      "Requirement already satisfied: pytz>=2017.2 in /opt/conda/envs/springboard/lib/python3.7/site-packages (from pandas->pdpbox) (2020.1)\n",
      "Requirement already satisfied: pyparsing!=2.0.4,!=2.1.2,!=2.1.6,>=2.0.1 in /opt/conda/envs/springboard/lib/python3.7/site-packages (from matplotlib>=2.1.2->pdpbox) (2.4.6)\n",
      "Requirement already satisfied: cycler>=0.10 in /opt/conda/envs/springboard/lib/python3.7/site-packages (from matplotlib>=2.1.2->pdpbox) (0.10.0)\n",
      "Requirement already satisfied: kiwisolver>=1.0.1 in /opt/conda/envs/springboard/lib/python3.7/site-packages (from matplotlib>=2.1.2->pdpbox) (1.1.0)\n",
      "Requirement already satisfied: six>=1.5 in /opt/conda/envs/springboard/lib/python3.7/site-packages (from python-dateutil>=2.6.1->pandas->pdpbox) (1.15.0)\n",
      "Requirement already satisfied: setuptools in /opt/conda/envs/springboard/lib/python3.7/site-packages (from kiwisolver>=1.0.1->matplotlib>=2.1.2->pdpbox) (47.3.1.post20200622)\n"
     ]
    }
   ],
   "source": [
    "! pip install pdpbox"
   ]
  },
  {
   "cell_type": "markdown",
   "metadata": {},
   "source": [
    "While we encourage you to read the documentation for the package (and reading package documentation in general is a good habit to develop), the authors of the package have also written an excellent blog post on how to use it, showing examples on different algorithms from scikit-learn (the Random Forests example is towards the end of the blog post): https://briangriner.github.io/Partial_Dependence_Plots_presentation-BrianGriner-PrincetonPublicLibrary-4.14.18-updated-4.22.18.html"
   ]
  },
  {
   "cell_type": "markdown",
   "metadata": {},
   "source": [
    "So, armed with this new knowledge, feel free to pick a few features, and make a couple of Partial Dependence Plots of your own!"
   ]
  },
  {
   "cell_type": "code",
   "execution_count": 68,
   "metadata": {},
   "outputs": [
    {
     "ename": "TypeError",
     "evalue": "clabel() got an unexpected keyword argument 'contour_label_fontsize'",
     "output_type": "error",
     "traceback": [
      "\u001b[0;31m---------------------------------------------------------------------------\u001b[0m",
      "\u001b[0;31mTypeError\u001b[0m                                 Traceback (most recent call last)",
      "\u001b[0;32m<ipython-input-68-099956e40e8c>\u001b[0m in \u001b[0;36m<module>\u001b[0;34m\u001b[0m\n\u001b[1;32m      3\u001b[0m \u001b[0;32mfrom\u001b[0m \u001b[0mpdpbox\u001b[0m \u001b[0;32mimport\u001b[0m \u001b[0mpdp\u001b[0m\u001b[0;34m\u001b[0m\u001b[0;34m\u001b[0m\u001b[0m\n\u001b[1;32m      4\u001b[0m \u001b[0mpdp_pedi_insul\u001b[0m \u001b[0;34m=\u001b[0m \u001b[0mpdp\u001b[0m\u001b[0;34m.\u001b[0m\u001b[0mpdp_interact\u001b[0m\u001b[0;34m(\u001b[0m\u001b[0mrf_gs\u001b[0m\u001b[0;34m.\u001b[0m\u001b[0mbest_estimator_\u001b[0m\u001b[0;34m,\u001b[0m \u001b[0mdataset\u001b[0m\u001b[0;34m=\u001b[0m\u001b[0mtrain_X\u001b[0m\u001b[0;34m,\u001b[0m \u001b[0mmodel_features\u001b[0m\u001b[0;34m=\u001b[0m\u001b[0mall_feats\u001b[0m\u001b[0;34m,\u001b[0m \u001b[0mfeatures\u001b[0m\u001b[0;34m=\u001b[0m\u001b[0;34m[\u001b[0m\u001b[0;34m'Amount'\u001b[0m\u001b[0;34m,\u001b[0m\u001b[0;34m'CheckingAccountStatus.none'\u001b[0m\u001b[0;34m]\u001b[0m\u001b[0;34m)\u001b[0m\u001b[0;34m\u001b[0m\u001b[0;34m\u001b[0m\u001b[0m\n\u001b[0;32m----> 5\u001b[0;31m \u001b[0mpdp\u001b[0m\u001b[0;34m.\u001b[0m\u001b[0mpdp_interact_plot\u001b[0m\u001b[0;34m(\u001b[0m\u001b[0mpdp_pedi_insul\u001b[0m\u001b[0;34m,\u001b[0m \u001b[0;34m[\u001b[0m\u001b[0;34m'Amount'\u001b[0m\u001b[0;34m,\u001b[0m\u001b[0;34m'CheckingAccountStatus.none'\u001b[0m\u001b[0;34m]\u001b[0m\u001b[0;34m,\u001b[0m\u001b[0mplot_type\u001b[0m\u001b[0;34m=\u001b[0m\u001b[0;34m'contour'\u001b[0m\u001b[0;34m,\u001b[0m\u001b[0mx_quantile\u001b[0m\u001b[0;34m=\u001b[0m\u001b[0;32mTrue\u001b[0m\u001b[0;34m,\u001b[0m\u001b[0mplot_pdp\u001b[0m\u001b[0;34m=\u001b[0m\u001b[0;32mTrue\u001b[0m\u001b[0;34m)\u001b[0m\u001b[0;34m\u001b[0m\u001b[0;34m\u001b[0m\u001b[0m\n\u001b[0m",
      "\u001b[0;32m/opt/conda/envs/springboard/lib/python3.7/site-packages/pdpbox/pdp.py\u001b[0m in \u001b[0;36mpdp_interact_plot\u001b[0;34m(pdp_interact_out, feature_names, plot_type, x_quantile, plot_pdp, which_classes, figsize, ncols, plot_params)\u001b[0m\n\u001b[1;32m    768\u001b[0m                                                  width_ratios=[0.5, 7], hspace=inner_hspace, wspace=inner_wspace)\n\u001b[1;32m    769\u001b[0m             inter_ax = _pdp_inter_three(pdp_interact_out=pdp_interact_plot_data[0], chart_grids=inner_grid,\n\u001b[0;32m--> 770\u001b[0;31m                                         fig=fig, feature_names=feature_names_adj, **inter_params)\n\u001b[0m\u001b[1;32m    771\u001b[0m         \u001b[0;32melse\u001b[0m\u001b[0;34m:\u001b[0m\u001b[0;34m\u001b[0m\u001b[0;34m\u001b[0m\u001b[0m\n\u001b[1;32m    772\u001b[0m             \u001b[0minter_ax\u001b[0m \u001b[0;34m=\u001b[0m \u001b[0mplt\u001b[0m\u001b[0;34m.\u001b[0m\u001b[0msubplot\u001b[0m\u001b[0;34m(\u001b[0m\u001b[0mouter_grid\u001b[0m\u001b[0;34m[\u001b[0m\u001b[0;36m1\u001b[0m\u001b[0;34m]\u001b[0m\u001b[0;34m)\u001b[0m\u001b[0;34m\u001b[0m\u001b[0;34m\u001b[0m\u001b[0m\n",
      "\u001b[0;32m/opt/conda/envs/springboard/lib/python3.7/site-packages/pdpbox/pdp_plot_utils.py\u001b[0m in \u001b[0;36m_pdp_inter_three\u001b[0;34m(pdp_interact_out, feature_names, plot_type, chart_grids, x_quantile, fig, plot_params)\u001b[0m\n\u001b[1;32m    467\u001b[0m \u001b[0;34m\u001b[0m\u001b[0m\n\u001b[1;32m    468\u001b[0m     im = _pdp_inter_one(pdp_interact_out=pdp_interact_out, feature_names=feature_names, plot_type=plot_type,\n\u001b[0;32m--> 469\u001b[0;31m                         inter_ax=inter_ax, x_quantile=x_quantile, plot_params=plot_params, norm=norm, ticks=False)\n\u001b[0m\u001b[1;32m    470\u001b[0m \u001b[0;34m\u001b[0m\u001b[0m\n\u001b[1;32m    471\u001b[0m     \u001b[0minter_ax\u001b[0m\u001b[0;34m.\u001b[0m\u001b[0mset_frame_on\u001b[0m\u001b[0;34m(\u001b[0m\u001b[0;32mFalse\u001b[0m\u001b[0;34m)\u001b[0m\u001b[0;34m\u001b[0m\u001b[0;34m\u001b[0m\u001b[0m\n",
      "\u001b[0;32m/opt/conda/envs/springboard/lib/python3.7/site-packages/pdpbox/pdp_plot_utils.py\u001b[0m in \u001b[0;36m_pdp_inter_one\u001b[0;34m(pdp_interact_out, feature_names, plot_type, inter_ax, x_quantile, plot_params, norm, ticks)\u001b[0m\n\u001b[1;32m    330\u001b[0m             \u001b[0;31m# for numeric not quantile\u001b[0m\u001b[0;34m\u001b[0m\u001b[0;34m\u001b[0m\u001b[0;34m\u001b[0m\u001b[0m\n\u001b[1;32m    331\u001b[0m             \u001b[0mX\u001b[0m\u001b[0;34m,\u001b[0m \u001b[0mY\u001b[0m \u001b[0;34m=\u001b[0m \u001b[0mnp\u001b[0m\u001b[0;34m.\u001b[0m\u001b[0mmeshgrid\u001b[0m\u001b[0;34m(\u001b[0m\u001b[0mpdp_interact_out\u001b[0m\u001b[0;34m.\u001b[0m\u001b[0mfeature_grids\u001b[0m\u001b[0;34m[\u001b[0m\u001b[0;36m0\u001b[0m\u001b[0;34m]\u001b[0m\u001b[0;34m,\u001b[0m \u001b[0mpdp_interact_out\u001b[0m\u001b[0;34m.\u001b[0m\u001b[0mfeature_grids\u001b[0m\u001b[0;34m[\u001b[0m\u001b[0;36m1\u001b[0m\u001b[0;34m]\u001b[0m\u001b[0;34m)\u001b[0m\u001b[0;34m\u001b[0m\u001b[0;34m\u001b[0m\u001b[0m\n\u001b[0;32m--> 332\u001b[0;31m         \u001b[0mim\u001b[0m \u001b[0;34m=\u001b[0m \u001b[0m_pdp_contour_plot\u001b[0m\u001b[0;34m(\u001b[0m\u001b[0mX\u001b[0m\u001b[0;34m=\u001b[0m\u001b[0mX\u001b[0m\u001b[0;34m,\u001b[0m \u001b[0mY\u001b[0m\u001b[0;34m=\u001b[0m\u001b[0mY\u001b[0m\u001b[0;34m,\u001b[0m \u001b[0;34m**\u001b[0m\u001b[0minter_params\u001b[0m\u001b[0;34m)\u001b[0m\u001b[0;34m\u001b[0m\u001b[0;34m\u001b[0m\u001b[0m\n\u001b[0m\u001b[1;32m    333\u001b[0m     \u001b[0;32melif\u001b[0m \u001b[0mplot_type\u001b[0m \u001b[0;34m==\u001b[0m \u001b[0;34m'grid'\u001b[0m\u001b[0;34m:\u001b[0m\u001b[0;34m\u001b[0m\u001b[0;34m\u001b[0m\u001b[0m\n\u001b[1;32m    334\u001b[0m         \u001b[0mim\u001b[0m \u001b[0;34m=\u001b[0m \u001b[0m_pdp_inter_grid\u001b[0m\u001b[0;34m(\u001b[0m\u001b[0;34m**\u001b[0m\u001b[0minter_params\u001b[0m\u001b[0;34m)\u001b[0m\u001b[0;34m\u001b[0m\u001b[0;34m\u001b[0m\u001b[0m\n",
      "\u001b[0;32m/opt/conda/envs/springboard/lib/python3.7/site-packages/pdpbox/pdp_plot_utils.py\u001b[0m in \u001b[0;36m_pdp_contour_plot\u001b[0;34m(X, Y, pdp_mx, inter_ax, cmap, norm, inter_fill_alpha, fontsize, plot_params)\u001b[0m\n\u001b[1;32m    249\u001b[0m     \u001b[0mc1\u001b[0m \u001b[0;34m=\u001b[0m \u001b[0minter_ax\u001b[0m\u001b[0;34m.\u001b[0m\u001b[0mcontourf\u001b[0m\u001b[0;34m(\u001b[0m\u001b[0mX\u001b[0m\u001b[0;34m,\u001b[0m \u001b[0mY\u001b[0m\u001b[0;34m,\u001b[0m \u001b[0mpdp_mx\u001b[0m\u001b[0;34m,\u001b[0m \u001b[0mN\u001b[0m\u001b[0;34m=\u001b[0m\u001b[0mlevel\u001b[0m\u001b[0;34m,\u001b[0m \u001b[0morigin\u001b[0m\u001b[0;34m=\u001b[0m\u001b[0;34m'lower'\u001b[0m\u001b[0;34m,\u001b[0m \u001b[0mcmap\u001b[0m\u001b[0;34m=\u001b[0m\u001b[0mcmap\u001b[0m\u001b[0;34m,\u001b[0m \u001b[0mnorm\u001b[0m\u001b[0;34m=\u001b[0m\u001b[0mnorm\u001b[0m\u001b[0;34m,\u001b[0m \u001b[0malpha\u001b[0m\u001b[0;34m=\u001b[0m\u001b[0minter_fill_alpha\u001b[0m\u001b[0;34m)\u001b[0m\u001b[0;34m\u001b[0m\u001b[0;34m\u001b[0m\u001b[0m\n\u001b[1;32m    250\u001b[0m     \u001b[0mc2\u001b[0m \u001b[0;34m=\u001b[0m \u001b[0minter_ax\u001b[0m\u001b[0;34m.\u001b[0m\u001b[0mcontour\u001b[0m\u001b[0;34m(\u001b[0m\u001b[0mc1\u001b[0m\u001b[0;34m,\u001b[0m \u001b[0mlevels\u001b[0m\u001b[0;34m=\u001b[0m\u001b[0mc1\u001b[0m\u001b[0;34m.\u001b[0m\u001b[0mlevels\u001b[0m\u001b[0;34m,\u001b[0m \u001b[0mcolors\u001b[0m\u001b[0;34m=\u001b[0m\u001b[0mcontour_color\u001b[0m\u001b[0;34m,\u001b[0m \u001b[0morigin\u001b[0m\u001b[0;34m=\u001b[0m\u001b[0;34m'lower'\u001b[0m\u001b[0;34m)\u001b[0m\u001b[0;34m\u001b[0m\u001b[0;34m\u001b[0m\u001b[0m\n\u001b[0;32m--> 251\u001b[0;31m     \u001b[0minter_ax\u001b[0m\u001b[0;34m.\u001b[0m\u001b[0mclabel\u001b[0m\u001b[0;34m(\u001b[0m\u001b[0mc2\u001b[0m\u001b[0;34m,\u001b[0m \u001b[0mcontour_label_fontsize\u001b[0m\u001b[0;34m=\u001b[0m\u001b[0mfontsize\u001b[0m\u001b[0;34m,\u001b[0m \u001b[0minline\u001b[0m\u001b[0;34m=\u001b[0m\u001b[0;36m1\u001b[0m\u001b[0;34m)\u001b[0m\u001b[0;34m\u001b[0m\u001b[0;34m\u001b[0m\u001b[0m\n\u001b[0m\u001b[1;32m    252\u001b[0m     \u001b[0minter_ax\u001b[0m\u001b[0;34m.\u001b[0m\u001b[0mset_aspect\u001b[0m\u001b[0;34m(\u001b[0m\u001b[0;34m'auto'\u001b[0m\u001b[0;34m)\u001b[0m\u001b[0;34m\u001b[0m\u001b[0;34m\u001b[0m\u001b[0m\n\u001b[1;32m    253\u001b[0m \u001b[0;34m\u001b[0m\u001b[0m\n",
      "\u001b[0;32m/opt/conda/envs/springboard/lib/python3.7/site-packages/matplotlib/axes/_axes.py\u001b[0m in \u001b[0;36mclabel\u001b[0;34m(self, CS, *args, **kwargs)\u001b[0m\n\u001b[1;32m   6434\u001b[0m \u001b[0;34m\u001b[0m\u001b[0m\n\u001b[1;32m   6435\u001b[0m     \u001b[0;32mdef\u001b[0m \u001b[0mclabel\u001b[0m\u001b[0;34m(\u001b[0m\u001b[0mself\u001b[0m\u001b[0;34m,\u001b[0m \u001b[0mCS\u001b[0m\u001b[0;34m,\u001b[0m \u001b[0;34m*\u001b[0m\u001b[0margs\u001b[0m\u001b[0;34m,\u001b[0m \u001b[0;34m**\u001b[0m\u001b[0mkwargs\u001b[0m\u001b[0;34m)\u001b[0m\u001b[0;34m:\u001b[0m\u001b[0;34m\u001b[0m\u001b[0;34m\u001b[0m\u001b[0m\n\u001b[0;32m-> 6436\u001b[0;31m         \u001b[0;32mreturn\u001b[0m \u001b[0mCS\u001b[0m\u001b[0;34m.\u001b[0m\u001b[0mclabel\u001b[0m\u001b[0;34m(\u001b[0m\u001b[0;34m*\u001b[0m\u001b[0margs\u001b[0m\u001b[0;34m,\u001b[0m \u001b[0;34m**\u001b[0m\u001b[0mkwargs\u001b[0m\u001b[0;34m)\u001b[0m\u001b[0;34m\u001b[0m\u001b[0;34m\u001b[0m\u001b[0m\n\u001b[0m\u001b[1;32m   6437\u001b[0m     \u001b[0mclabel\u001b[0m\u001b[0;34m.\u001b[0m\u001b[0m__doc__\u001b[0m \u001b[0;34m=\u001b[0m \u001b[0mmcontour\u001b[0m\u001b[0;34m.\u001b[0m\u001b[0mContourSet\u001b[0m\u001b[0;34m.\u001b[0m\u001b[0mclabel\u001b[0m\u001b[0;34m.\u001b[0m\u001b[0m__doc__\u001b[0m\u001b[0;34m\u001b[0m\u001b[0;34m\u001b[0m\u001b[0m\n\u001b[1;32m   6438\u001b[0m \u001b[0;34m\u001b[0m\u001b[0m\n",
      "\u001b[0;31mTypeError\u001b[0m: clabel() got an unexpected keyword argument 'contour_label_fontsize'"
     ]
    },
    {
     "data": {
      "image/png": "[encoded data removed]",
      "text/plain": [
       "<Figure size 756x900 with 4 Axes>"
      ]
     },
     "metadata": {
      "needs_background": "light"
     },
     "output_type": "display_data"
    }
   ],
   "source": [
    "# Your code here!\n",
    "import pdpbox\n",
    "from pdpbox import pdp\n",
    "pdp_pedi_insul = pdp.pdp_interact(rf_gs.best_estimator_, dataset=train_X, model_features=all_feats, features=['Amount','CheckingAccountStatus.none'])\n",
    "pdp.pdp_interact_plot(pdp_pedi_insul, ['Amount','CheckingAccountStatus.none'],plot_type='contour',x_quantile=True,plot_pdp=True)"
   ]
  },
  {
   "cell_type": "markdown",
   "metadata": {},
   "source": [
    "## (Optional) Advanced Boosting-Based Algorithms"
   ]
  },
  {
   "cell_type": "markdown",
   "metadata": {},
   "source": [
    "As explained in the video lectures, the next generation of algorithms after Random Forests (that use Bagging, a.k.a. Bootstrap Aggregation) were developed using Boosting, and the first one of these were Gradient Boosted Machines, which are implemented in scikit-learn (http://scikit-learn.org/stable/modules/ensemble.html#gradient-tree-boosting)."
   ]
  },
  {
   "cell_type": "markdown",
   "metadata": {},
   "source": [
    "Still, in recent years, a number of variations on GBMs have been developed by different research amd industry groups, all of them bringing improvements, both in speed, accuracy and functionality to the original Gradient Boosting algorithms.\n",
    "\n",
    "In no order of preference, these are:\n",
    "1. **XGBoost**: https://xgboost.readthedocs.io/en/latest/\n",
    "2. **CatBoost**: https://tech.yandex.com/catboost/\n",
    "3. **LightGBM**: https://lightgbm.readthedocs.io/en/latest/"
   ]
  },
  {
   "cell_type": "markdown",
   "metadata": {},
   "source": [
    "If you're using the Anaconda distribution, these are all very easy to install:"
   ]
  },
  {
   "cell_type": "code",
   "execution_count": 71,
   "metadata": {},
   "outputs": [
    {
     "name": "stdout",
     "output_type": "stream",
     "text": [
      "Collecting package metadata (current_repodata.json): done\n",
      "Solving environment: done\n",
      "\n",
      "## Package Plan ##\n",
      "\n",
      "  environment location: /opt/conda/envs/springboard\n",
      "\n",
      "  added / updated specs:\n",
      "    - py-xgboost\n",
      "\n",
      "\n",
      "The following packages will be downloaded:\n",
      "\n",
      "    package                    |            build\n",
      "    ---------------------------|-----------------\n",
      "    blas-1.0                   |              mkl           6 KB  anaconda\n",
      "    ca-certificates-2020.1.1   |                0         132 KB  anaconda\n",
      "    conda-4.8.3                |           py37_0         3.0 MB  anaconda\n",
      "    joblib-0.15.1              |             py_0         207 KB  anaconda\n",
      "    libgfortran-ng-7.3.0       |       hdf63c60_0         1.3 MB  anaconda\n",
      "    libxgboost-0.90            |       he6710b0_1         3.8 MB  anaconda\n",
      "    mkl_fft-1.1.0              |   py37h23d657b_0         158 KB  anaconda\n",
      "    numpy-1.18.1               |   py37h4f9e942_0           5 KB  anaconda\n",
      "    numpy-base-1.18.1          |   py37hde5b4d6_1         5.2 MB  anaconda\n",
      "    py-xgboost-0.90            |   py37he6710b0_1          77 KB  anaconda\n",
      "    scipy-1.4.1                |   py37h0b6359f_0        18.9 MB  anaconda\n",
      "    ------------------------------------------------------------\n",
      "                                           Total:        32.8 MB\n",
      "\n",
      "The following NEW packages will be INSTALLED:\n",
      "\n",
      "  _py-xgboost-mutex  anaconda/linux-64::_py-xgboost-mutex-2.0-cpu_0\n",
      "  blas               anaconda/linux-64::blas-1.0-mkl\n",
      "  joblib             anaconda/noarch::joblib-0.15.1-py_0\n",
      "  libgfortran-ng     anaconda/linux-64::libgfortran-ng-7.3.0-hdf63c60_0\n",
      "  libxgboost         anaconda/linux-64::libxgboost-0.90-he6710b0_1\n",
      "  mkl_fft            anaconda/linux-64::mkl_fft-1.1.0-py37h23d657b_0\n",
      "  mkl_random         anaconda/linux-64::mkl_random-1.1.0-py37hd6b4f25_0\n",
      "  numpy              anaconda/linux-64::numpy-1.18.1-py37h4f9e942_0\n",
      "  numpy-base         anaconda/linux-64::numpy-base-1.18.1-py37hde5b4d6_1\n",
      "  py-xgboost         anaconda/linux-64::py-xgboost-0.90-py37he6710b0_1\n",
      "  scikit-learn       anaconda/linux-64::scikit-learn-0.22.1-py37hd81dba3_0\n",
      "  scipy              anaconda/linux-64::scipy-1.4.1-py37h0b6359f_0\n",
      "\n",
      "The following packages will be SUPERSEDED by a higher-priority channel:\n",
      "\n",
      "  ca-certificates                                 pkgs/main --> anaconda\n",
      "  certifi               pkgs/main::certifi-2020.6.20-py37_0 --> anaconda::certifi-2020.4.5.2-py37_0\n",
      "  conda                                           pkgs/main --> anaconda\n",
      "  openssl                                         pkgs/main --> anaconda\n",
      "\n",
      "\n",
      "\n",
      "Downloading and Extracting Packages\n",
      "scipy-1.4.1          | 18.9 MB   | ##################################### | 100% \n",
      "numpy-base-1.18.1    | 5.2 MB    | ##################################### | 100% \n",
      "numpy-1.18.1         | 5 KB      | ##################################### | 100% \n",
      "libxgboost-0.90      | 3.8 MB    | ##################################### | 100% \n",
      "mkl_fft-1.1.0        | 158 KB    | ##################################### | 100% \n",
      "libgfortran-ng-7.3.0 | 1.3 MB    | ##################################### | 100% \n",
      "ca-certificates-2020 | 132 KB    | ##################################### | 100% \n",
      "py-xgboost-0.90      | 77 KB     | ##################################### | 100% \n",
      "blas-1.0             | 6 KB      | ##################################### | 100% \n",
      "conda-4.8.3          | 3.0 MB    | ##################################### | 100% \n",
      "joblib-0.15.1        | 207 KB    | ##################################### | 100% \n",
      "Preparing transaction: done\n",
      "Verifying transaction: done\n",
      "Executing transaction: done\n"
     ]
    }
   ],
   "source": [
    "! conda install -c anaconda py-xgboost -y"
   ]
  },
  {
   "cell_type": "code",
   "execution_count": 72,
   "metadata": {},
   "outputs": [
    {
     "name": "stdout",
     "output_type": "stream",
     "text": [
      "Collecting package metadata (current_repodata.json): done\n",
      "Solving environment: done\n",
      "\n",
      "## Package Plan ##\n",
      "\n",
      "  environment location: /opt/conda/envs/springboard\n",
      "\n",
      "  added / updated specs:\n",
      "    - catboost\n",
      "\n",
      "\n",
      "The following packages will be downloaded:\n",
      "\n",
      "    package                    |            build\n",
      "    ---------------------------|-----------------\n",
      "    catboost-0.23.2            |   py37hc8dfbb8_0        52.9 MB  conda-forge\n",
      "    pandas-1.0.5               |   py37h0da4684_0        10.1 MB  conda-forge\n",
      "    python-dateutil-2.8.1      |             py_0         220 KB  conda-forge\n",
      "    ------------------------------------------------------------\n",
      "                                           Total:        63.2 MB\n",
      "\n",
      "The following NEW packages will be INSTALLED:\n",
      "\n",
      "  catboost           conda-forge/linux-64::catboost-0.23.2-py37hc8dfbb8_0\n",
      "  pandas             conda-forge/linux-64::pandas-1.0.5-py37h0da4684_0\n",
      "  python-dateutil    conda-forge/noarch::python-dateutil-2.8.1-py_0\n",
      "\n",
      "The following packages will be UPDATED:\n",
      "\n",
      "  ca-certificates      anaconda::ca-certificates-2020.1.1-0 --> conda-forge::ca-certificates-2020.6.20-hecda079_0\n",
      "  certifi               anaconda::certifi-2020.4.5.2-py37_0 --> conda-forge::certifi-2020.6.20-py37hc8dfbb8_0\n",
      "  conda                        anaconda::conda-4.8.3-py37_0 --> conda-forge::conda-4.8.3-py37hc8dfbb8_1\n",
      "\n",
      "The following packages will be SUPERSEDED by a higher-priority channel:\n",
      "\n",
      "  openssl               anaconda::openssl-1.1.1g-h7b6447c_0 --> conda-forge::openssl-1.1.1g-h516909a_0\n",
      "\n",
      "\n",
      "\n",
      "Downloading and Extracting Packages\n",
      "pandas-1.0.5         | 10.1 MB   | ##################################### | 100% \n",
      "catboost-0.23.2      | 52.9 MB   | ##################################### | 100% \n",
      "python-dateutil-2.8. | 220 KB    | ##################################### | 100% \n",
      "Preparing transaction: done\n",
      "Verifying transaction: done\n",
      "Executing transaction: done\n"
     ]
    }
   ],
   "source": [
    "! conda install -c conda-forge catboost -y"
   ]
  },
  {
   "cell_type": "code",
   "execution_count": 73,
   "metadata": {},
   "outputs": [
    {
     "name": "stdout",
     "output_type": "stream",
     "text": [
      "Collecting package metadata (current_repodata.json): done\n",
      "Solving environment: done\n",
      "\n",
      "## Package Plan ##\n",
      "\n",
      "  environment location: /opt/conda/envs/springboard\n",
      "\n",
      "  added / updated specs:\n",
      "    - lightgbm\n",
      "\n",
      "\n",
      "The following packages will be downloaded:\n",
      "\n",
      "    package                    |            build\n",
      "    ---------------------------|-----------------\n",
      "    lightgbm-2.3.0             |   py37he6710b0_0         936 KB\n",
      "    ------------------------------------------------------------\n",
      "                                           Total:         936 KB\n",
      "\n",
      "The following NEW packages will be INSTALLED:\n",
      "\n",
      "  lightgbm           pkgs/main/linux-64::lightgbm-2.3.0-py37he6710b0_0\n",
      "\n",
      "\n",
      "\n",
      "Downloading and Extracting Packages\n",
      "lightgbm-2.3.0       | 936 KB    | ##################################### | 100% \n",
      "Preparing transaction: done\n",
      "Verifying transaction: done\n",
      "Executing transaction: done\n"
     ]
    }
   ],
   "source": [
    "! conda install -c conda-forge lightgbm -y"
   ]
  },
  {
   "cell_type": "markdown",
   "metadata": {},
   "source": [
    "Your task in this optional section of the mini project is to read the documentation of these three libraries, and apply all of them to the \"German Credit\" dataset, just like you did in the case of Decision Trees and Random Forests."
   ]
  },
  {
   "cell_type": "markdown",
   "metadata": {},
   "source": [
    "The final deliverable of this section should be a table (can be a pandas DataFrame) which shows the accuracy of all the five algorthms taught in this mini project in one place."
   ]
  },
  {
   "cell_type": "markdown",
   "metadata": {},
   "source": [
    "Happy modeling! :)"
   ]
  },
  {
   "cell_type": "code",
   "execution_count": null,
   "metadata": {},
   "outputs": [],
   "source": []
  }
 ],
 "metadata": {
  "kernelspec": {
   "display_name": "Python 3",
   "language": "python",
   "name": "python3"
  },
  "language_info": {
   "codemirror_mode": {
    "name": "ipython",
    "version": 3
   },
   "file_extension": ".py",
   "mimetype": "text/x-python",
   "name": "python",
   "nbconvert_exporter": "python",
   "pygments_lexer": "ipython3",
   "version": "3.6.5"
  }
 },
 "nbformat": 4,
 "nbformat_minor": 4
}
