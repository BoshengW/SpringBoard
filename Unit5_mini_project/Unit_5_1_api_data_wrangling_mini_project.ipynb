{
 "cells": [
  {
   "cell_type": "markdown",
   "metadata": {
    "colab_type": "text",
    "id": "_oHCxFfE-avd"
   },
   "source": [
    "This exercise will require you to pull some data from the Qunadl API. Qaundl is currently the most widely used aggregator of financial market data."
   ]
  },
  {
   "cell_type": "markdown",
   "metadata": {
    "colab_type": "text",
    "id": "gne1bVmU-avh"
   },
   "source": [
    "As a first step, you will need to register a free account on the http://www.quandl.com website."
   ]
  },
  {
   "cell_type": "markdown",
   "metadata": {
    "colab_type": "text",
    "id": "YikX7J6N-avh"
   },
   "source": [
    "After you register, you will be provided with a unique API key, that you should store:"
   ]
  },
  {
   "cell_type": "code",
   "execution_count": 0,
   "metadata": {
    "colab": {},
    "colab_type": "code",
    "collapsed": true,
    "id": "Ad1RMM4u-avj"
   },
   "outputs": [],
   "source": [
    "# Store the API key as a string - according to PEP8, constants are always named in all upper case\n",
    "API_KEY = 'ha_NuitLNszUzbCCZ3uc'"
   ]
  },
  {
   "cell_type": "markdown",
   "metadata": {
    "colab_type": "text",
    "id": "_VVOGhHQ-avt"
   },
   "source": [
    "Qaundl has a large number of data sources, but, unfortunately, most of them require a Premium subscription. Still, there are also a good number of free datasets."
   ]
  },
  {
   "cell_type": "markdown",
   "metadata": {
    "colab_type": "text",
    "id": "uX_5Qavg-avu"
   },
   "source": [
    "For this mini project, we will focus on equities data from the Frankfurt Stock Exhange (FSE), which is available for free. We'll try and analyze the stock prices of a company called Carl Zeiss Meditec, which manufactures tools for eye examinations, as well as medical lasers for laser eye surgery: https://www.zeiss.com/meditec/int/home.html. The company is listed under the stock ticker AFX_X."
   ]
  },
  {
   "cell_type": "markdown",
   "metadata": {
    "colab_type": "text",
    "id": "GNfxlUmt-avv"
   },
   "source": [
    "You can find the detailed Quandl API instructions here: https://docs.quandl.com/docs/time-series"
   ]
  },
  {
   "cell_type": "markdown",
   "metadata": {
    "colab_type": "text",
    "id": "8EjujkVT-avv"
   },
   "source": [
    "While there is a dedicated Python package for connecting to the Quandl API, we would prefer that you use the *requests* package, which can be easily downloaded using *pip* or *conda*. You can find the documentation for the package here: http://docs.python-requests.org/en/master/ "
   ]
  },
  {
   "cell_type": "markdown",
   "metadata": {
    "colab_type": "text",
    "id": "yTTuzkFh-avx"
   },
   "source": [
    "Finally, apart from the *requests* package, you are encouraged to not use any third party Python packages, such as *pandas*, and instead focus on what's available in the Python Standard Library (the *collections* module might come in handy: https://pymotw.com/3/collections/).\n",
    "Also, since you won't have access to DataFrames, you are encouraged to us Python's native data structures - preferably dictionaries, though some questions can also be answered using lists.\n",
    "You can read more on these data structures here: https://docs.python.org/3/tutorial/datastructures.html"
   ]
  },
  {
   "cell_type": "markdown",
   "metadata": {
    "colab_type": "text",
    "id": "PIGHVhdH-avz"
   },
   "source": [
    "Keep in mind that the JSON responses you will be getting from the API map almost one-to-one to Python's dictionaries. Unfortunately, they can be very nested, so make sure you read up on indexing dictionaries in the documentation provided above."
   ]
  },
  {
   "cell_type": "code",
   "execution_count": 1,
   "metadata": {
    "colab": {},
    "colab_type": "code",
    "collapsed": true,
    "id": "CkYcpdsW-av0"
   },
   "outputs": [],
   "source": [
    "# First, import the relevant modules\n",
    "import requests\n",
    "import collections\n",
    "import json"
   ]
  },
  {
   "cell_type": "code",
   "execution_count": 2,
   "metadata": {
    "colab": {},
    "colab_type": "code",
    "collapsed": true,
    "id": "mSW_IMm4-av5"
   },
   "outputs": [],
   "source": [
    "# Now, call the Quandl API and pull out a small sample of the data (only one day) to get a glimpse\n",
    "# into the JSON structure that will be returned\n",
    "url = 'https://www.quandl.com/api/v3/datasets/FSE/AFX_X.json?start_date=2019-10-31&end_date=2019-10-31&api_key=ha_NuitLNszUzbCCZ3uc'\n",
    "response = requests.get(url)"
   ]
  },
  {
   "cell_type": "code",
   "execution_count": 3,
   "metadata": {
    "colab": {},
    "colab_type": "code",
    "id": "GC7dZlCU-av-",
    "outputId": "50985e36-d13b-4626-f0be-f118e3bd7dd6"
   },
   "outputs": [
    {
     "data": {
      "text/plain": [
       "{'dataset': {'collapse': None,\n",
       "  'column_index': None,\n",
       "  'column_names': ['Date',\n",
       "   'Open',\n",
       "   'High',\n",
       "   'Low',\n",
       "   'Close',\n",
       "   'Change',\n",
       "   'Traded Volume',\n",
       "   'Turnover',\n",
       "   'Last Price of the Day',\n",
       "   'Daily Traded Units',\n",
       "   'Daily Turnover'],\n",
       "  'data': [['2019-10-31',\n",
       "    98.05,\n",
       "    99.15,\n",
       "    97.75,\n",
       "    97.75,\n",
       "    None,\n",
       "    105779.0,\n",
       "    10379837.0,\n",
       "    None,\n",
       "    None,\n",
       "    None]],\n",
       "  'database_code': 'FSE',\n",
       "  'database_id': 6129,\n",
       "  'dataset_code': 'AFX_X',\n",
       "  'description': 'Stock Prices for Carl Zeiss Meditec (2019-11-07) from the Frankfurt Stock Exchange.<br><br>Trading System: Xetra<br><br>ISIN: DE0005313704',\n",
       "  'end_date': '2019-10-31',\n",
       "  'frequency': 'daily',\n",
       "  'id': 10095370,\n",
       "  'limit': None,\n",
       "  'name': 'Carl Zeiss Meditec (AFX_X)',\n",
       "  'newest_available_date': '2019-11-21',\n",
       "  'oldest_available_date': '2000-06-07',\n",
       "  'order': None,\n",
       "  'premium': False,\n",
       "  'refreshed_at': '2019-11-21T22:17:17.650Z',\n",
       "  'start_date': '2019-10-31',\n",
       "  'transform': None,\n",
       "  'type': 'Time Series'}}"
      ]
     },
     "execution_count": 3,
     "metadata": {},
     "output_type": "execute_result"
    }
   ],
   "source": [
    "# Inspect the JSON structure of the object you created, and take note of how nested it is,\n",
    "# as well as the overall structure\n",
    "response.json()"
   ]
  },
  {
   "cell_type": "markdown",
   "metadata": {
    "colab_type": "text",
    "id": "7ke3MEsx-awD"
   },
   "source": [
    "These are your tasks for this mini project:\n",
    "\n",
    "1. Collect data from the Franfurt Stock Exchange, for the ticker AFX_X, for the whole year 2017 (keep in mind that the date format is YYYY-MM-DD).\n",
    "2. Convert the returned JSON object into a Python dictionary.\n",
    "3. Calculate what the highest and lowest opening prices were for the stock in this period.\n",
    "4. What was the largest change in any one day (based on High and Low price)?\n",
    "5. What was the largest change between any two days (based on Closing Price)?\n",
    "6. What was the average daily trading volume during this year?\n",
    "7. (Optional) What was the median trading volume during this year. (Note: you may need to implement your own function for calculating the median.)"
   ]
  },
  {
   "cell_type": "markdown",
   "metadata": {
    "colab_type": "text",
    "id": "jGfvbVCM-awE"
   },
   "source": [
    "# Unit5.1 mini-project -Bosheng Wu"
   ]
  },
  {
   "cell_type": "markdown",
   "metadata": {
    "colab_type": "text",
    "collapsed": true,
    "id": "9PW8V1d1-awF"
   },
   "source": [
    "## Q1. Collect whole year 2017"
   ]
  },
  {
   "cell_type": "code",
   "execution_count": 4,
   "metadata": {
    "colab": {},
    "colab_type": "code",
    "collapsed": true,
    "id": "WXFtKFQ3-awM"
   },
   "outputs": [],
   "source": [
    "## define url link for whole year\n",
    "url_Q1 = 'https://www.quandl.com/api/v3/datasets/FSE/AFX_X.json?start_date=2017-01-01&end_date=2017-12-31&api_key=ha_NuitLNszUzbCCZ3uc'\n",
    "response = requests.get(url_Q1)"
   ]
  },
  {
   "cell_type": "markdown",
   "metadata": {
    "colab_type": "text",
    "id": "yIzeRGQp-awQ"
   },
   "source": [
    "## Q2. Convert JSON into object dict"
   ]
  },
  {
   "cell_type": "code",
   "execution_count": 5,
   "metadata": {
    "colab": {},
    "colab_type": "code",
    "collapsed": true,
    "id": "kI92RR28-awR"
   },
   "outputs": [],
   "source": [
    "## convert into python dict (nested)\n",
    "STOCK_DATA = response.json()"
   ]
  },
  {
   "cell_type": "markdown",
   "metadata": {
    "colab_type": "text",
    "id": "zOd8ZcAl-awV"
   },
   "source": [
    "## Q3. Find High & Low opening prices"
   ]
  },
  {
   "cell_type": "code",
   "execution_count": 6,
   "metadata": {
    "colab": {},
    "colab_type": "code",
    "collapsed": true,
    "id": "4XXCpfce-awc"
   },
   "outputs": [],
   "source": [
    "# find the index of columns for open price\n",
    "open_price_col_idx = STOCK_DATA['dataset']['column_names'].index('Open')"
   ]
  },
  {
   "cell_type": "code",
   "execution_count": 7,
   "metadata": {
    "colab": {},
    "colab_type": "code",
    "collapsed": true,
    "id": "QFYg6z7U-awi"
   },
   "outputs": [],
   "source": [
    "# unpack data\n",
    "unpack_stock_data = list(zip(*STOCK_DATA['dataset']['data']))"
   ]
  },
  {
   "cell_type": "code",
   "execution_count": 8,
   "metadata": {
    "colab": {},
    "colab_type": "code",
    "id": "YMUVeYhM-awl",
    "outputId": "144fddd7-7390-4d75-a17d-8c30d74b880f"
   },
   "outputs": [
    {
     "data": {
      "text/plain": [
       "34.0"
      ]
     },
     "execution_count": 8,
     "metadata": {},
     "output_type": "execute_result"
    }
   ],
   "source": [
    "# find minimum open price\n",
    "min(open_price for open_price in unpack_stock_data[open_price_col_idx] if open_price is not None)"
   ]
  },
  {
   "cell_type": "code",
   "execution_count": 9,
   "metadata": {
    "colab": {},
    "colab_type": "code",
    "id": "Ez7J01pi-awq",
    "outputId": "66370652-0ef8-43e5-8858-ea9d9c3e7265"
   },
   "outputs": [
    {
     "data": {
      "text/plain": [
       "53.11"
      ]
     },
     "execution_count": 9,
     "metadata": {},
     "output_type": "execute_result"
    }
   ],
   "source": [
    "# find maximum open price\n",
    "max(open_price for open_price in unpack_stock_data[open_price_col_idx] if open_price is not None)"
   ]
  },
  {
   "cell_type": "markdown",
   "metadata": {
    "colab_type": "text",
    "id": "S3sYxfcG-aww"
   },
   "source": [
    "## Q4.  Largest change in a day"
   ]
  },
  {
   "cell_type": "code",
   "execution_count": 10,
   "metadata": {
    "colab": {},
    "colab_type": "code",
    "collapsed": true,
    "id": "2tLZdW0K-awx"
   },
   "outputs": [],
   "source": [
    "# find col index of high & low price\n",
    "HIGH_PRICE_COL_IDX = STOCK_DATA['dataset']['column_names'].index('High')\n",
    "LOW_PRICE_COL_IDX = STOCK_DATA['dataset']['column_names'].index('Low')"
   ]
  },
  {
   "cell_type": "code",
   "execution_count": 21,
   "metadata": {
    "colab": {},
    "colab_type": "code",
    "id": "-vImWXAz-aw0",
    "outputId": "aba87bba-59cd-4671-89ec-e080fdb5e4e2"
   },
   "outputs": [
    {
     "data": {
      "text/plain": [
       "2.8100000000000023"
      ]
     },
     "execution_count": 21,
     "metadata": {},
     "output_type": "execute_result"
    }
   ],
   "source": [
    "# # find the maximum change price in a single day\n",
    "# max(high_price-unpack_stock_data[LOW_PRICE_COL_IDX][idx] for idx, high_price in enumerate(unpack_stock_data[HIGH_PRICE_COL_IDX])\n",
    "#    if high_price is not None and unpack_stock_data[LOW_PRICE_COL_IDX][idx] is not None)"
   ]
  },
  {
   "cell_type": "code",
   "execution_count": 23,
   "metadata": {},
   "outputs": [
    {
     "name": "stdout",
     "output_type": "stream",
     "text": [
      "2.8100000000000023\n"
     ]
    }
   ],
   "source": [
    "# modification more logical \n",
    "\n",
    "init = 0\n",
    "maximum_change = 0\n",
    "for idx, high_price in enumerate(unpack_stock_data[HIGH_PRICE_COL_IDX]):\n",
    "    \n",
    "    if high_price is not None and unpack_stock_data[LOW_PRICE_COL_IDX][idx] is not None:\n",
    "        \n",
    "        if init == 0:\n",
    "            maximum_change = high_price-unpack_stock_data[LOW_PRICE_COL_IDX][idx]\n",
    "            init=1\n",
    "        else:\n",
    "            temp_max_change = high_price-unpack_stock_data[LOW_PRICE_COL_IDX][idx]\n",
    "\n",
    "            if temp_max_change > maximum_change:\n",
    "                maximum_change = temp_max_change\n"
   ]
  },
  {
   "cell_type": "markdown",
   "metadata": {
    "colab_type": "text",
    "id": "d8H8vRrz-aw2"
   },
   "source": [
    "## Q5. Largest change in between two day"
   ]
  },
  {
   "cell_type": "code",
   "execution_count": 27,
   "metadata": {
    "colab": {},
    "colab_type": "code",
    "collapsed": true,
    "id": "NVssgAUP-aw7"
   },
   "outputs": [],
   "source": [
    "# find col index of close price\n",
    "CLOSE_PRICE_COL_IDX = STOCK_DATA['dataset']['column_names'].index('Close')\n"
   ]
  },
  {
   "cell_type": "code",
   "execution_count": 28,
   "metadata": {
    "colab": {},
    "colab_type": "code",
    "id": "igkGiwFR-axB",
    "outputId": "443661af-564f-45ba-b9f4-4fe5f386ec70"
   },
   "outputs": [
    {
     "data": {
      "text/plain": [
       "2.559999999999995"
      ]
     },
     "execution_count": 28,
     "metadata": {},
     "output_type": "execute_result"
    }
   ],
   "source": [
    "# # find max change close price between two day\n",
    "# max(close_price-unpack_stock_data[CLOSE_PRICE_COL_IDX][idx-1] for idx, close_price in enumerate(unpack_stock_data[CLOSE_PRICE_COL_IDX])\n",
    "#    if idx!=0 and close_price is not None and unpack_stock_data[CLOSE_PRICE_COL_IDX][idx-1] is not None)"
   ]
  },
  {
   "cell_type": "code",
   "execution_count": 29,
   "metadata": {},
   "outputs": [
    {
     "name": "stdout",
     "output_type": "stream",
     "text": [
      "2.559999999999995\n"
     ]
    }
   ],
   "source": [
    "init = 0\n",
    "max_change = 0\n",
    "\n",
    "for idx, close_price in enumerate(unpack_stock_data[CLOSE_PRICE_COL_IDX]):\n",
    "    if idx != 0 and close_price is not None and unpack_stock_data[CLOSE_PRICE_COL_IDX][idx-1] is not None:\n",
    "        if  init == 0:\n",
    "            max_change = close_price-unpack_stock_data[CLOSE_PRICE_COL_IDX][idx-1]\n",
    "            init = 1\n",
    "        else:\n",
    "            temp_max_change = close_price-unpack_stock_data[CLOSE_PRICE_COL_IDX][idx-1]\n",
    "\n",
    "            if temp_max_change > max_change:\n",
    "                max_change = temp_max_change\n",
    "                \n",
    "print(max_change)"
   ]
  },
  {
   "cell_type": "markdown",
   "metadata": {
    "colab_type": "text",
    "id": "4Q8b1DQs-axE"
   },
   "source": [
    "## Q6. Average daily traded volume"
   ]
  },
  {
   "cell_type": "code",
   "execution_count": 0,
   "metadata": {
    "colab": {},
    "colab_type": "code",
    "collapsed": true,
    "id": "PO97cZtx-axG"
   },
   "outputs": [],
   "source": [
    "# find index of traded volume for each day and total days for traded in a year\n",
    "DAILY_VOL_IDX = STOCK_DATA['dataset']['column_names'].index('Traded Volume')\n",
    "TOTAL_DAYS = len(unpack_stock_data[0])"
   ]
  },
  {
   "cell_type": "code",
   "execution_count": 0,
   "metadata": {
    "colab": {},
    "colab_type": "code",
    "id": "tAN5tfw_-axP",
    "outputId": "2a7c06fa-09f0-4c27-8666-96dec71b5157"
   },
   "outputs": [
    {
     "data": {
      "text/plain": [
       "89124"
      ]
     },
     "execution_count": 111,
     "metadata": {
      "tags": []
     },
     "output_type": "execute_result"
    }
   ],
   "source": [
    "# calculate the average daily traded volume\n",
    "int(sum(trad_vol for trad_vol in unpack_stock_data[DAILY_VOL_IDX] if trad_vol is not None)/TOTAL_DAYS)"
   ]
  },
  {
   "cell_type": "markdown",
   "metadata": {
    "colab_type": "text",
    "id": "Yu7GVnCG-axY"
   },
   "source": [
    "## Q7. median of traded volume in this year"
   ]
  },
  {
   "cell_type": "code",
   "execution_count": 0,
   "metadata": {
    "colab": {},
    "colab_type": "code",
    "collapsed": true,
    "id": "rptIQK7A-axa"
   },
   "outputs": [],
   "source": [
    "# define the function\n",
    "def find_median(trad_volume):\n",
    "    \"\"\"\n",
    "    trad_volume: tuple included daily traded volume\n",
    "    \"\"\"\n",
    "    noempty_trad_vol = [i for i in trad_volume if i is not None]\n",
    "    sorted_trad_vol = sorted(noempty_trad_vol)\n",
    "    trad_vol_length = len(sorted_trad_vol)\n",
    "    \n",
    "    if trad_vol_length%2 == 0:\n",
    "        median = (sorted_trad_vol[trad_vol_length/2]+sorted_trad_vol[trad_vol_length/2-1])/2\n",
    "    else:\n",
    "        median = sorted_trad_vol[int(trad_vol_length/2)]\n",
    "    \n",
    "    return int(median)"
   ]
  },
  {
   "cell_type": "code",
   "execution_count": 0,
   "metadata": {
    "colab": {},
    "colab_type": "code",
    "id": "9ICVHH2q-axj",
    "outputId": "5e9d95a2-3f9f-4664-f6e3-cb144c6ba2ee"
   },
   "outputs": [
    {
     "data": {
      "text/plain": [
       "76286"
      ]
     },
     "execution_count": 132,
     "metadata": {
      "tags": []
     },
     "output_type": "execute_result"
    }
   ],
   "source": [
    "# find median of trad volume\n",
    "find_median(unpack_stock_data[DAILY_VOL_IDX])"
   ]
  }
 ],
 "metadata": {
  "colab": {
   "name": "api_data_wrangling_mini_project.ipynb",
   "provenance": []
  },
  "kernelspec": {
   "display_name": "Python 3",
   "language": "python",
   "name": "python3"
  },
  "language_info": {
   "codemirror_mode": {
    "name": "ipython",
    "version": 3
   },
   "file_extension": ".py",
   "mimetype": "text/x-python",
   "name": "python",
   "nbconvert_exporter": "python",
   "pygments_lexer": "ipython3",
   "version": "3.6.2"
  }
 },
 "nbformat": 4,
 "nbformat_minor": 1
}
